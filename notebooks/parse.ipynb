{
 "cells": [
  {
   "cell_type": "code",
   "execution_count": null,
   "metadata": {},
   "outputs": [],
   "source": [
    "import aprslib as aprs\n",
    "import gzip as gz\n",
    "import os"
   ]
  },
  {
   "cell_type": "markdown",
   "metadata": {},
   "source": [
    "# Load data"
   ]
  },
  {
   "cell_type": "code",
   "execution_count": null,
   "metadata": {},
   "outputs": [],
   "source": [
    "DATA_PATH = \"../../database\""
   ]
  },
  {
   "cell_type": "code",
   "execution_count": null,
   "metadata": {},
   "outputs": [],
   "source": [
    "aprs.parse(\"HS6KLJ-3>AESPG4,TCPIP*,qAC,T2CS::HS6KLJ-3 :UNIT.Pkt,Pkt,Pkt,dBm,V\")"
   ]
  },
  {
   "cell_type": "code",
   "execution_count": null,
   "metadata": {},
   "outputs": [],
   "source": [
    "packets = []\n",
    "for file in os.listdir(DATA_PATH):\n",
    "    if file.endswith(\".gz\"):\n",
    "        with gz.open(os.path.join(DATA_PATH, file), \"rb\") as f:\n",
    "            for line in f.readlines():\n",
    "                try:\n",
    "                    packets.append(aprs.parse(line[:-1]))\n",
    "                except Exception as e:\n",
    "                    print(\"Error parsing line: \" + line.decode(\"utf-8\") + \" \" + str(e))"
   ]
  },
  {
   "cell_type": "code",
   "execution_count": null,
   "metadata": {},
   "outputs": [],
   "source": [
    "packets"
   ]
  }
 ],
 "metadata": {
  "kernelspec": {
   "display_name": "tfg_env",
   "language": "python",
   "name": "python3"
  },
  "language_info": {
   "codemirror_mode": {
    "name": "ipython",
    "version": 3
   },
   "file_extension": ".py",
   "mimetype": "text/x-python",
   "name": "python",
   "nbconvert_exporter": "python",
   "pygments_lexer": "ipython3",
   "version": "3.11.6"
  }
 },
 "nbformat": 4,
 "nbformat_minor": 2
}
