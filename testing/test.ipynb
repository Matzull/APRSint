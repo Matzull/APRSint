{
 "cells": [
  {
   "cell_type": "code",
   "execution_count": 1,
   "metadata": {},
   "outputs": [],
   "source": [
    "import pandas as pd\n",
    "import networkx as nx\n",
    "import plotly.graph_objects as go\n",
    "import random"
   ]
  },
  {
   "cell_type": "code",
   "execution_count": 2,
   "metadata": {},
   "outputs": [],
   "source": [
    "num_rows = 1000  # Número de filas\n",
    "\n",
    "# Generar valores aleatorios para las columnas 'src' y 'dst'\n",
    "src_values = [random.choice([\"A\", \"B\"]) for _ in range(num_rows)]\n",
    "dst_values = [random.choice([\"B\", \"C\"]) for _ in range(num_rows)]\n",
    "\n",
    "# Crear el DataFrame\n",
    "df = pd.DataFrame({\"src\": src_values, \"dst\": dst_values})"
   ]
  },
  {
   "cell_type": "code",
   "execution_count": 3,
   "metadata": {},
   "outputs": [],
   "source": [
    "A = list(df[\"src\"].unique())\n",
    "B = list(df[\"dst\"].unique())\n",
    "node_list = set(A + B)"
   ]
  },
  {
   "cell_type": "code",
   "execution_count": 61,
   "metadata": {},
   "outputs": [],
   "source": [
    "G = nx.MultiGraph()\n",
    "for i in node_list:\n",
    "    G.add_node(i)"
   ]
  },
  {
   "cell_type": "code",
   "execution_count": 62,
   "metadata": {},
   "outputs": [],
   "source": [
    "for i, j in df.iterrows():\n",
    "    G.add_edges_from([(j[\"src\"], j[\"dst\"])])"
   ]
  },
  {
   "cell_type": "code",
   "execution_count": 63,
   "metadata": {},
   "outputs": [],
   "source": [
    "pos = nx.spring_layout(G, k=0.5, iterations=50)\n",
    "for n, p in pos.items():\n",
    "    G.nodes[n][\"pos\"] = p"
   ]
  },
  {
   "cell_type": "code",
   "execution_count": 64,
   "metadata": {},
   "outputs": [
    {
     "data": {
      "text/plain": [
       "MultiEdgeDataView([('A', 'B'), ('A', 'B'), ('A', 'B'), ('A', 'B'), ('A', 'B'), ('A', 'B'), ('A', 'B'), ('A', 'B'), ('A', 'B'), ('A', 'B'), ('A', 'B'), ('A', 'B'), ('A', 'B'), ('A', 'B'), ('A', 'B'), ('A', 'B'), ('A', 'B'), ('A', 'B'), ('A', 'B'), ('A', 'B'), ('A', 'B'), ('A', 'B'), ('A', 'B'), ('A', 'B'), ('A', 'B'), ('A', 'B'), ('A', 'B'), ('A', 'B'), ('A', 'B'), ('A', 'B'), ('A', 'B'), ('A', 'B'), ('A', 'B'), ('A', 'B'), ('A', 'B'), ('A', 'B'), ('A', 'B'), ('A', 'B'), ('A', 'B'), ('A', 'B'), ('A', 'B'), ('A', 'B'), ('A', 'B'), ('A', 'B'), ('A', 'B'), ('A', 'B'), ('A', 'B'), ('A', 'B'), ('A', 'B'), ('A', 'B'), ('A', 'B'), ('A', 'B'), ('A', 'B'), ('A', 'B'), ('A', 'B'), ('A', 'B'), ('A', 'B'), ('A', 'B'), ('A', 'B'), ('A', 'B'), ('A', 'B'), ('A', 'B'), ('A', 'B'), ('A', 'B'), ('A', 'B'), ('A', 'B'), ('A', 'B'), ('A', 'B'), ('A', 'B'), ('A', 'B'), ('A', 'B'), ('A', 'B'), ('A', 'B'), ('A', 'B'), ('A', 'B'), ('A', 'B'), ('A', 'B'), ('A', 'B'), ('A', 'B'), ('A', 'B'), ('A', 'B'), ('A', 'B'), ('A', 'B'), ('A', 'B'), ('A', 'B'), ('A', 'B'), ('A', 'B'), ('A', 'B'), ('A', 'B'), ('A', 'B'), ('A', 'B'), ('A', 'B'), ('A', 'B'), ('A', 'B'), ('A', 'B'), ('A', 'B'), ('A', 'B'), ('A', 'B'), ('A', 'B'), ('A', 'B'), ('A', 'B'), ('A', 'B'), ('A', 'B'), ('A', 'B'), ('A', 'B'), ('A', 'B'), ('A', 'B'), ('A', 'B'), ('A', 'B'), ('A', 'B'), ('A', 'B'), ('A', 'B'), ('A', 'B'), ('A', 'B'), ('A', 'B'), ('A', 'B'), ('A', 'B'), ('A', 'B'), ('A', 'B'), ('A', 'B'), ('A', 'B'), ('A', 'B'), ('A', 'B'), ('A', 'B'), ('A', 'B'), ('A', 'B'), ('A', 'B'), ('A', 'B'), ('A', 'B'), ('A', 'B'), ('A', 'B'), ('A', 'B'), ('A', 'B'), ('A', 'B'), ('A', 'B'), ('A', 'B'), ('A', 'B'), ('A', 'B'), ('A', 'B'), ('A', 'B'), ('A', 'B'), ('A', 'B'), ('A', 'B'), ('A', 'B'), ('A', 'B'), ('A', 'B'), ('A', 'B'), ('A', 'B'), ('A', 'B'), ('A', 'B'), ('A', 'B'), ('A', 'B'), ('A', 'B'), ('A', 'B'), ('A', 'B'), ('A', 'B'), ('A', 'B'), ('A', 'B'), ('A', 'B'), ('A', 'B'), ('A', 'B'), ('A', 'B'), ('A', 'B'), ('A', 'B'), ('A', 'B'), ('A', 'B'), ('A', 'B'), ('A', 'B'), ('A', 'B'), ('A', 'B'), ('A', 'B'), ('A', 'B'), ('A', 'B'), ('A', 'B'), ('A', 'B'), ('A', 'B'), ('A', 'B'), ('A', 'B'), ('A', 'B'), ('A', 'B'), ('A', 'B'), ('A', 'B'), ('A', 'B'), ('A', 'B'), ('A', 'B'), ('A', 'B'), ('A', 'B'), ('A', 'B'), ('A', 'B'), ('A', 'B'), ('A', 'B'), ('A', 'B'), ('A', 'B'), ('A', 'B'), ('A', 'B'), ('A', 'B'), ('A', 'B'), ('A', 'B'), ('A', 'B'), ('A', 'B'), ('A', 'B'), ('A', 'B'), ('A', 'B'), ('A', 'B'), ('A', 'B'), ('A', 'B'), ('A', 'B'), ('A', 'B'), ('A', 'B'), ('A', 'B'), ('A', 'B'), ('A', 'B'), ('A', 'B'), ('A', 'B'), ('A', 'B'), ('A', 'B'), ('A', 'B'), ('A', 'B'), ('A', 'B'), ('A', 'B'), ('A', 'B'), ('A', 'B'), ('A', 'B'), ('A', 'B'), ('A', 'B'), ('A', 'B'), ('A', 'B'), ('A', 'B'), ('A', 'B'), ('A', 'B'), ('A', 'B'), ('A', 'B'), ('A', 'B'), ('A', 'B'), ('A', 'B'), ('A', 'B'), ('A', 'B'), ('A', 'B'), ('A', 'B'), ('A', 'B'), ('A', 'B'), ('A', 'B'), ('A', 'B'), ('A', 'C'), ('A', 'C'), ('A', 'C'), ('A', 'C'), ('A', 'C'), ('A', 'C'), ('A', 'C'), ('A', 'C'), ('A', 'C'), ('A', 'C'), ('A', 'C'), ('A', 'C'), ('A', 'C'), ('A', 'C'), ('A', 'C'), ('A', 'C'), ('A', 'C'), ('A', 'C'), ('A', 'C'), ('A', 'C'), ('A', 'C'), ('A', 'C'), ('A', 'C'), ('A', 'C'), ('A', 'C'), ('A', 'C'), ('A', 'C'), ('A', 'C'), ('A', 'C'), ('A', 'C'), ('A', 'C'), ('A', 'C'), ('A', 'C'), ('A', 'C'), ('A', 'C'), ('A', 'C'), ('A', 'C'), ('A', 'C'), ('A', 'C'), ('A', 'C'), ('A', 'C'), ('A', 'C'), ('A', 'C'), ('A', 'C'), ('A', 'C'), ('A', 'C'), ('A', 'C'), ('A', 'C'), ('A', 'C'), ('A', 'C'), ('A', 'C'), ('A', 'C'), ('A', 'C'), ('A', 'C'), ('A', 'C'), ('A', 'C'), ('A', 'C'), ('A', 'C'), ('A', 'C'), ('A', 'C'), ('A', 'C'), ('A', 'C'), ('A', 'C'), ('A', 'C'), ('A', 'C'), ('A', 'C'), ('A', 'C'), ('A', 'C'), ('A', 'C'), ('A', 'C'), ('A', 'C'), ('A', 'C'), ('A', 'C'), ('A', 'C'), ('A', 'C'), ('A', 'C'), ('A', 'C'), ('A', 'C'), ('A', 'C'), ('A', 'C'), ('A', 'C'), ('A', 'C'), ('A', 'C'), ('A', 'C'), ('A', 'C'), ('A', 'C'), ('A', 'C'), ('A', 'C'), ('A', 'C'), ('A', 'C'), ('A', 'C'), ('A', 'C'), ('A', 'C'), ('A', 'C'), ('A', 'C'), ('A', 'C'), ('A', 'C'), ('A', 'C'), ('A', 'C'), ('A', 'C'), ('A', 'C'), ('A', 'C'), ('A', 'C'), ('A', 'C'), ('A', 'C'), ('A', 'C'), ('A', 'C'), ('A', 'C'), ('A', 'C'), ('A', 'C'), ('A', 'C'), ('A', 'C'), ('A', 'C'), ('A', 'C'), ('A', 'C'), ('A', 'C'), ('A', 'C'), ('A', 'C'), ('A', 'C'), ('A', 'C'), ('A', 'C'), ('A', 'C'), ('A', 'C'), ('A', 'C'), ('A', 'C'), ('A', 'C'), ('A', 'C'), ('A', 'C'), ('A', 'C'), ('A', 'C'), ('A', 'C'), ('A', 'C'), ('A', 'C'), ('A', 'C'), ('A', 'C'), ('A', 'C'), ('A', 'C'), ('A', 'C'), ('A', 'C'), ('A', 'C'), ('A', 'C'), ('A', 'C'), ('A', 'C'), ('A', 'C'), ('A', 'C'), ('A', 'C'), ('A', 'C'), ('A', 'C'), ('A', 'C'), ('A', 'C'), ('A', 'C'), ('A', 'C'), ('A', 'C'), ('A', 'C'), ('A', 'C'), ('A', 'C'), ('A', 'C'), ('A', 'C'), ('A', 'C'), ('A', 'C'), ('A', 'C'), ('A', 'C'), ('A', 'C'), ('A', 'C'), ('A', 'C'), ('A', 'C'), ('A', 'C'), ('A', 'C'), ('A', 'C'), ('A', 'C'), ('A', 'C'), ('A', 'C'), ('A', 'C'), ('A', 'C'), ('A', 'C'), ('A', 'C'), ('A', 'C'), ('A', 'C'), ('A', 'C'), ('A', 'C'), ('A', 'C'), ('A', 'C'), ('A', 'C'), ('A', 'C'), ('A', 'C'), ('A', 'C'), ('A', 'C'), ('A', 'C'), ('A', 'C'), ('A', 'C'), ('A', 'C'), ('A', 'C'), ('A', 'C'), ('A', 'C'), ('A', 'C'), ('A', 'C'), ('A', 'C'), ('A', 'C'), ('A', 'C'), ('A', 'C'), ('A', 'C'), ('A', 'C'), ('A', 'C'), ('A', 'C'), ('A', 'C'), ('A', 'C'), ('A', 'C'), ('A', 'C'), ('A', 'C'), ('A', 'C'), ('A', 'C'), ('A', 'C'), ('A', 'C'), ('A', 'C'), ('A', 'C'), ('A', 'C'), ('A', 'C'), ('A', 'C'), ('A', 'C'), ('A', 'C'), ('A', 'C'), ('A', 'C'), ('A', 'C'), ('A', 'C'), ('A', 'C'), ('A', 'C'), ('A', 'C'), ('A', 'C'), ('A', 'C'), ('A', 'C'), ('A', 'C'), ('A', 'C'), ('A', 'C'), ('A', 'C'), ('A', 'C'), ('A', 'C'), ('A', 'C'), ('A', 'C'), ('A', 'C'), ('A', 'C'), ('A', 'C'), ('A', 'C'), ('A', 'C'), ('A', 'C'), ('A', 'C'), ('A', 'C'), ('A', 'C'), ('A', 'C'), ('A', 'C'), ('A', 'C'), ('A', 'C'), ('A', 'C'), ('A', 'C'), ('A', 'C'), ('A', 'C'), ('C', 'B'), ('C', 'B'), ('C', 'B'), ('C', 'B'), ('C', 'B'), ('C', 'B'), ('C', 'B'), ('C', 'B'), ('C', 'B'), ('C', 'B'), ('C', 'B'), ('C', 'B'), ('C', 'B'), ('C', 'B'), ('C', 'B'), ('C', 'B'), ('C', 'B'), ('C', 'B'), ('C', 'B'), ('C', 'B'), ('C', 'B'), ('C', 'B'), ('C', 'B'), ('C', 'B'), ('C', 'B'), ('C', 'B'), ('C', 'B'), ('C', 'B'), ('C', 'B'), ('C', 'B'), ('C', 'B'), ('C', 'B'), ('C', 'B'), ('C', 'B'), ('C', 'B'), ('C', 'B'), ('C', 'B'), ('C', 'B'), ('C', 'B'), ('C', 'B'), ('C', 'B'), ('C', 'B'), ('C', 'B'), ('C', 'B'), ('C', 'B'), ('C', 'B'), ('C', 'B'), ('C', 'B'), ('C', 'B'), ('C', 'B'), ('C', 'B'), ('C', 'B'), ('C', 'B'), ('C', 'B'), ('C', 'B'), ('C', 'B'), ('C', 'B'), ('C', 'B'), ('C', 'B'), ('C', 'B'), ('C', 'B'), ('C', 'B'), ('C', 'B'), ('C', 'B'), ('C', 'B'), ('C', 'B'), ('C', 'B'), ('C', 'B'), ('C', 'B'), ('C', 'B'), ('C', 'B'), ('C', 'B'), ('C', 'B'), ('C', 'B'), ('C', 'B'), ('C', 'B'), ('C', 'B'), ('C', 'B'), ('C', 'B'), ('C', 'B'), ('C', 'B'), ('C', 'B'), ('C', 'B'), ('C', 'B'), ('C', 'B'), ('C', 'B'), ('C', 'B'), ('C', 'B'), ('C', 'B'), ('C', 'B'), ('C', 'B'), ('C', 'B'), ('C', 'B'), ('C', 'B'), ('C', 'B'), ('C', 'B'), ('C', 'B'), ('C', 'B'), ('C', 'B'), ('C', 'B'), ('C', 'B'), ('C', 'B'), ('C', 'B'), ('C', 'B'), ('C', 'B'), ('C', 'B'), ('C', 'B'), ('C', 'B'), ('C', 'B'), ('C', 'B'), ('C', 'B'), ('C', 'B'), ('C', 'B'), ('C', 'B'), ('C', 'B'), ('C', 'B'), ('C', 'B'), ('C', 'B'), ('C', 'B'), ('C', 'B'), ('C', 'B'), ('C', 'B'), ('C', 'B'), ('C', 'B'), ('C', 'B'), ('C', 'B'), ('C', 'B'), ('C', 'B'), ('C', 'B'), ('C', 'B'), ('C', 'B'), ('C', 'B'), ('C', 'B'), ('C', 'B'), ('C', 'B'), ('C', 'B'), ('C', 'B'), ('C', 'B'), ('C', 'B'), ('C', 'B'), ('C', 'B'), ('C', 'B'), ('C', 'B'), ('C', 'B'), ('C', 'B'), ('C', 'B'), ('C', 'B'), ('C', 'B'), ('C', 'B'), ('C', 'B'), ('C', 'B'), ('C', 'B'), ('C', 'B'), ('C', 'B'), ('C', 'B'), ('C', 'B'), ('C', 'B'), ('C', 'B'), ('C', 'B'), ('C', 'B'), ('C', 'B'), ('C', 'B'), ('C', 'B'), ('C', 'B'), ('C', 'B'), ('C', 'B'), ('C', 'B'), ('C', 'B'), ('C', 'B'), ('C', 'B'), ('C', 'B'), ('C', 'B'), ('C', 'B'), ('C', 'B'), ('C', 'B'), ('C', 'B'), ('C', 'B'), ('C', 'B'), ('C', 'B'), ('C', 'B'), ('C', 'B'), ('C', 'B'), ('C', 'B'), ('C', 'B'), ('C', 'B'), ('C', 'B'), ('C', 'B'), ('C', 'B'), ('C', 'B'), ('C', 'B'), ('C', 'B'), ('C', 'B'), ('C', 'B'), ('C', 'B'), ('C', 'B'), ('C', 'B'), ('C', 'B'), ('C', 'B'), ('C', 'B'), ('C', 'B'), ('C', 'B'), ('C', 'B'), ('C', 'B'), ('C', 'B'), ('C', 'B'), ('C', 'B'), ('C', 'B'), ('C', 'B'), ('C', 'B'), ('C', 'B'), ('C', 'B'), ('C', 'B'), ('C', 'B'), ('C', 'B'), ('C', 'B'), ('C', 'B'), ('C', 'B'), ('C', 'B'), ('C', 'B'), ('C', 'B'), ('C', 'B'), ('C', 'B'), ('C', 'B'), ('C', 'B'), ('C', 'B'), ('C', 'B'), ('C', 'B'), ('C', 'B'), ('C', 'B'), ('C', 'B'), ('C', 'B'), ('C', 'B'), ('C', 'B'), ('C', 'B'), ('C', 'B'), ('C', 'B'), ('C', 'B'), ('C', 'B'), ('C', 'B'), ('C', 'B'), ('C', 'B'), ('C', 'B'), ('C', 'B'), ('C', 'B'), ('C', 'B'), ('C', 'B'), ('C', 'B'), ('C', 'B'), ('C', 'B'), ('C', 'B'), ('C', 'B'), ('C', 'B'), ('C', 'B'), ('C', 'B'), ('C', 'B'), ('C', 'B'), ('C', 'B'), ('B', 'B'), ('B', 'B'), ('B', 'B'), ('B', 'B'), ('B', 'B'), ('B', 'B'), ('B', 'B'), ('B', 'B'), ('B', 'B'), ('B', 'B'), ('B', 'B'), ('B', 'B'), ('B', 'B'), ('B', 'B'), ('B', 'B'), ('B', 'B'), ('B', 'B'), ('B', 'B'), ('B', 'B'), ('B', 'B'), ('B', 'B'), ('B', 'B'), ('B', 'B'), ('B', 'B'), ('B', 'B'), ('B', 'B'), ('B', 'B'), ('B', 'B'), ('B', 'B'), ('B', 'B'), ('B', 'B'), ('B', 'B'), ('B', 'B'), ('B', 'B'), ('B', 'B'), ('B', 'B'), ('B', 'B'), ('B', 'B'), ('B', 'B'), ('B', 'B'), ('B', 'B'), ('B', 'B'), ('B', 'B'), ('B', 'B'), ('B', 'B'), ('B', 'B'), ('B', 'B'), ('B', 'B'), ('B', 'B'), ('B', 'B'), ('B', 'B'), ('B', 'B'), ('B', 'B'), ('B', 'B'), ('B', 'B'), ('B', 'B'), ('B', 'B'), ('B', 'B'), ('B', 'B'), ('B', 'B'), ('B', 'B'), ('B', 'B'), ('B', 'B'), ('B', 'B'), ('B', 'B'), ('B', 'B'), ('B', 'B'), ('B', 'B'), ('B', 'B'), ('B', 'B'), ('B', 'B'), ('B', 'B'), ('B', 'B'), ('B', 'B'), ('B', 'B'), ('B', 'B'), ('B', 'B'), ('B', 'B'), ('B', 'B'), ('B', 'B'), ('B', 'B'), ('B', 'B'), ('B', 'B'), ('B', 'B'), ('B', 'B'), ('B', 'B'), ('B', 'B'), ('B', 'B'), ('B', 'B'), ('B', 'B'), ('B', 'B'), ('B', 'B'), ('B', 'B'), ('B', 'B'), ('B', 'B'), ('B', 'B'), ('B', 'B'), ('B', 'B'), ('B', 'B'), ('B', 'B'), ('B', 'B'), ('B', 'B'), ('B', 'B'), ('B', 'B'), ('B', 'B'), ('B', 'B'), ('B', 'B'), ('B', 'B'), ('B', 'B'), ('B', 'B'), ('B', 'B'), ('B', 'B'), ('B', 'B'), ('B', 'B'), ('B', 'B'), ('B', 'B'), ('B', 'B'), ('B', 'B'), ('B', 'B'), ('B', 'B'), ('B', 'B'), ('B', 'B'), ('B', 'B'), ('B', 'B'), ('B', 'B'), ('B', 'B'), ('B', 'B'), ('B', 'B'), ('B', 'B'), ('B', 'B'), ('B', 'B'), ('B', 'B'), ('B', 'B'), ('B', 'B'), ('B', 'B'), ('B', 'B'), ('B', 'B'), ('B', 'B'), ('B', 'B'), ('B', 'B'), ('B', 'B'), ('B', 'B'), ('B', 'B'), ('B', 'B'), ('B', 'B'), ('B', 'B'), ('B', 'B'), ('B', 'B'), ('B', 'B'), ('B', 'B'), ('B', 'B'), ('B', 'B'), ('B', 'B'), ('B', 'B'), ('B', 'B'), ('B', 'B'), ('B', 'B'), ('B', 'B'), ('B', 'B'), ('B', 'B'), ('B', 'B'), ('B', 'B'), ('B', 'B'), ('B', 'B'), ('B', 'B'), ('B', 'B'), ('B', 'B'), ('B', 'B'), ('B', 'B'), ('B', 'B'), ('B', 'B'), ('B', 'B'), ('B', 'B'), ('B', 'B'), ('B', 'B'), ('B', 'B'), ('B', 'B'), ('B', 'B'), ('B', 'B'), ('B', 'B'), ('B', 'B'), ('B', 'B'), ('B', 'B'), ('B', 'B'), ('B', 'B'), ('B', 'B'), ('B', 'B'), ('B', 'B'), ('B', 'B'), ('B', 'B'), ('B', 'B'), ('B', 'B'), ('B', 'B'), ('B', 'B'), ('B', 'B'), ('B', 'B'), ('B', 'B'), ('B', 'B'), ('B', 'B'), ('B', 'B'), ('B', 'B'), ('B', 'B'), ('B', 'B'), ('B', 'B'), ('B', 'B'), ('B', 'B'), ('B', 'B'), ('B', 'B'), ('B', 'B'), ('B', 'B'), ('B', 'B'), ('B', 'B'), ('B', 'B'), ('B', 'B'), ('B', 'B'), ('B', 'B'), ('B', 'B'), ('B', 'B'), ('B', 'B'), ('B', 'B'), ('B', 'B'), ('B', 'B'), ('B', 'B'), ('B', 'B'), ('B', 'B'), ('B', 'B'), ('B', 'B'), ('B', 'B'), ('B', 'B'), ('B', 'B'), ('B', 'B'), ('B', 'B'), ('B', 'B'), ('B', 'B'), ('B', 'B'), ('B', 'B'), ('B', 'B'), ('B', 'B'), ('B', 'B'), ('B', 'B'), ('B', 'B'), ('B', 'B'), ('B', 'B'), ('B', 'B'), ('B', 'B')])"
      ]
     },
     "execution_count": 64,
     "metadata": {},
     "output_type": "execute_result"
    }
   ],
   "source": [
    "G.edges()"
   ]
  },
  {
   "cell_type": "code",
   "execution_count": 66,
   "metadata": {},
   "outputs": [],
   "source": [
    "edge_counts = {(edge[0], edge[1]): len(G.edges(edge[0], edge[1])) for edge in G.edges()}\n",
    "max_degree = max(edge_counts.values())\n",
    "edge_colors = [(((edge / max_degree) * 5) ** 2) for edge in edge_counts.values()]\n",
    "\n",
    "traces = []\n",
    "# Actualizar el grosor de las aristas y añadir las líneas a edge_trace\n",
    "for i, ((src, dst), count) in enumerate(edge_counts.items()):\n",
    "    traces.append(\n",
    "        go.Scatter(\n",
    "            x=[pos[src][0], pos[dst][0]],\n",
    "            y=[pos[src][1], pos[dst][1]],\n",
    "            hoverinfo=\"none\",\n",
    "            mode=\"lines\",\n",
    "            line=dict(width=edge_colors[i]),\n",
    "        )\n",
    "    )\n",
    "edge_trace = traces"
   ]
  },
  {
   "cell_type": "code",
   "execution_count": 67,
   "metadata": {},
   "outputs": [],
   "source": [
    "node_trace = go.Scatter(\n",
    "    x=[],\n",
    "    y=[],\n",
    "    text=[],\n",
    "    mode=\"markers\",\n",
    "    hoverinfo=\"text\",\n",
    "    marker=dict(\n",
    "        showscale=True,\n",
    "        colorscale=\"RdBu\",\n",
    "        reversescale=True,\n",
    "        color=[],\n",
    "        size=15,\n",
    "        colorbar=dict(\n",
    "            thickness=10, title=\"Node Connections\", xanchor=\"left\", titleside=\"right\"\n",
    "        ),\n",
    "        line=dict(width=0),\n",
    "    ),\n",
    ")\n",
    "\n",
    "for node in G.nodes():\n",
    "    x, y = G.nodes[node][\"pos\"]\n",
    "    node_trace[\"x\"] += tuple([x])\n",
    "    node_trace[\"y\"] += tuple([y])"
   ]
  },
  {
   "cell_type": "code",
   "execution_count": 68,
   "metadata": {},
   "outputs": [
    {
     "data": {
      "text/plain": [
       "MultiDegreeView({'A': 498, 'C': 512, 'B': 990})"
      ]
     },
     "execution_count": 68,
     "metadata": {},
     "output_type": "execute_result"
    }
   ],
   "source": [
    "G.degree"
   ]
  },
  {
   "cell_type": "code",
   "execution_count": 69,
   "metadata": {},
   "outputs": [],
   "source": [
    "for i, node in enumerate(G.nodes()):\n",
    "    node_trace[\"marker\"][\"color\"] += tuple([G.degree[node]])\n",
    "    node_info = node + \" # of connections: \" + str(G.degree[node])\n",
    "    node_trace[\"text\"] += tuple([node_info])"
   ]
  },
  {
   "cell_type": "code",
   "execution_count": 70,
   "metadata": {},
   "outputs": [
    {
     "data": {
      "application/vnd.plotly.v1+json": {
       "config": {
        "plotlyServerURL": "https://plot.ly"
       },
       "data": [
        {
         "hoverinfo": "none",
         "line": {
          "width": 11.170848159992792
         },
         "mode": "lines",
         "type": "scatter",
         "x": [
          0.24455941252990027,
          -0.992800340298129
         ],
         "y": [
          -1,
          0.311528032187563
         ]
        },
        {
         "hoverinfo": "none",
         "line": {
          "width": 11.170848159992792
         },
         "mode": "lines",
         "type": "scatter",
         "x": [
          0.24455941252990027,
          0.7482409277682276
         ],
         "y": [
          -1,
          0.6884719678124358
         ]
        },
        {
         "hoverinfo": "none",
         "line": {
          "width": 11.807756407369038
         },
         "mode": "lines",
         "type": "scatter",
         "x": [
          0.7482409277682276,
          -0.992800340298129
         ],
         "y": [
          0.6884719678124358,
          0.311528032187563
         ]
        },
        {
         "hoverinfo": "none",
         "line": {
          "width": 25
         },
         "mode": "lines",
         "type": "scatter",
         "x": [
          -0.992800340298129,
          -0.992800340298129
         ],
         "y": [
          0.311528032187563,
          0.311528032187563
         ]
        },
        {
         "hoverinfo": "text",
         "marker": {
          "color": [
           498,
           512,
           990
          ],
          "colorbar": {
           "thickness": 10,
           "title": {
            "side": "right",
            "text": "Node Connections"
           },
           "xanchor": "left"
          },
          "colorscale": [
           [
            0,
            "rgb(103,0,31)"
           ],
           [
            0.1,
            "rgb(178,24,43)"
           ],
           [
            0.2,
            "rgb(214,96,77)"
           ],
           [
            0.3,
            "rgb(244,165,130)"
           ],
           [
            0.4,
            "rgb(253,219,199)"
           ],
           [
            0.5,
            "rgb(247,247,247)"
           ],
           [
            0.6,
            "rgb(209,229,240)"
           ],
           [
            0.7,
            "rgb(146,197,222)"
           ],
           [
            0.8,
            "rgb(67,147,195)"
           ],
           [
            0.9,
            "rgb(33,102,172)"
           ],
           [
            1,
            "rgb(5,48,97)"
           ]
          ],
          "line": {
           "width": 0
          },
          "reversescale": true,
          "showscale": true,
          "size": 15
         },
         "mode": "markers",
         "text": [
          "A # of connections: 498",
          "C # of connections: 512",
          "B # of connections: 990"
         ],
         "type": "scatter",
         "x": [
          0.24455941252990027,
          0.7482409277682276,
          -0.992800340298129
         ],
         "y": [
          -1,
          0.6884719678124358,
          0.311528032187563
         ]
        }
       ],
       "layout": {
        "annotations": [
         {
          "showarrow": false,
          "text": "No. of connections",
          "xref": "paper",
          "yref": "paper"
         }
        ],
        "hovermode": "closest",
        "margin": {
         "b": 20,
         "l": 5,
         "r": 5,
         "t": 40
        },
        "showlegend": false,
        "template": {
         "data": {
          "bar": [
           {
            "error_x": {
             "color": "#2a3f5f"
            },
            "error_y": {
             "color": "#2a3f5f"
            },
            "marker": {
             "line": {
              "color": "#E5ECF6",
              "width": 0.5
             },
             "pattern": {
              "fillmode": "overlay",
              "size": 10,
              "solidity": 0.2
             }
            },
            "type": "bar"
           }
          ],
          "barpolar": [
           {
            "marker": {
             "line": {
              "color": "#E5ECF6",
              "width": 0.5
             },
             "pattern": {
              "fillmode": "overlay",
              "size": 10,
              "solidity": 0.2
             }
            },
            "type": "barpolar"
           }
          ],
          "carpet": [
           {
            "aaxis": {
             "endlinecolor": "#2a3f5f",
             "gridcolor": "white",
             "linecolor": "white",
             "minorgridcolor": "white",
             "startlinecolor": "#2a3f5f"
            },
            "baxis": {
             "endlinecolor": "#2a3f5f",
             "gridcolor": "white",
             "linecolor": "white",
             "minorgridcolor": "white",
             "startlinecolor": "#2a3f5f"
            },
            "type": "carpet"
           }
          ],
          "choropleth": [
           {
            "colorbar": {
             "outlinewidth": 0,
             "ticks": ""
            },
            "type": "choropleth"
           }
          ],
          "contour": [
           {
            "colorbar": {
             "outlinewidth": 0,
             "ticks": ""
            },
            "colorscale": [
             [
              0,
              "#0d0887"
             ],
             [
              0.1111111111111111,
              "#46039f"
             ],
             [
              0.2222222222222222,
              "#7201a8"
             ],
             [
              0.3333333333333333,
              "#9c179e"
             ],
             [
              0.4444444444444444,
              "#bd3786"
             ],
             [
              0.5555555555555556,
              "#d8576b"
             ],
             [
              0.6666666666666666,
              "#ed7953"
             ],
             [
              0.7777777777777778,
              "#fb9f3a"
             ],
             [
              0.8888888888888888,
              "#fdca26"
             ],
             [
              1,
              "#f0f921"
             ]
            ],
            "type": "contour"
           }
          ],
          "contourcarpet": [
           {
            "colorbar": {
             "outlinewidth": 0,
             "ticks": ""
            },
            "type": "contourcarpet"
           }
          ],
          "heatmap": [
           {
            "colorbar": {
             "outlinewidth": 0,
             "ticks": ""
            },
            "colorscale": [
             [
              0,
              "#0d0887"
             ],
             [
              0.1111111111111111,
              "#46039f"
             ],
             [
              0.2222222222222222,
              "#7201a8"
             ],
             [
              0.3333333333333333,
              "#9c179e"
             ],
             [
              0.4444444444444444,
              "#bd3786"
             ],
             [
              0.5555555555555556,
              "#d8576b"
             ],
             [
              0.6666666666666666,
              "#ed7953"
             ],
             [
              0.7777777777777778,
              "#fb9f3a"
             ],
             [
              0.8888888888888888,
              "#fdca26"
             ],
             [
              1,
              "#f0f921"
             ]
            ],
            "type": "heatmap"
           }
          ],
          "heatmapgl": [
           {
            "colorbar": {
             "outlinewidth": 0,
             "ticks": ""
            },
            "colorscale": [
             [
              0,
              "#0d0887"
             ],
             [
              0.1111111111111111,
              "#46039f"
             ],
             [
              0.2222222222222222,
              "#7201a8"
             ],
             [
              0.3333333333333333,
              "#9c179e"
             ],
             [
              0.4444444444444444,
              "#bd3786"
             ],
             [
              0.5555555555555556,
              "#d8576b"
             ],
             [
              0.6666666666666666,
              "#ed7953"
             ],
             [
              0.7777777777777778,
              "#fb9f3a"
             ],
             [
              0.8888888888888888,
              "#fdca26"
             ],
             [
              1,
              "#f0f921"
             ]
            ],
            "type": "heatmapgl"
           }
          ],
          "histogram": [
           {
            "marker": {
             "pattern": {
              "fillmode": "overlay",
              "size": 10,
              "solidity": 0.2
             }
            },
            "type": "histogram"
           }
          ],
          "histogram2d": [
           {
            "colorbar": {
             "outlinewidth": 0,
             "ticks": ""
            },
            "colorscale": [
             [
              0,
              "#0d0887"
             ],
             [
              0.1111111111111111,
              "#46039f"
             ],
             [
              0.2222222222222222,
              "#7201a8"
             ],
             [
              0.3333333333333333,
              "#9c179e"
             ],
             [
              0.4444444444444444,
              "#bd3786"
             ],
             [
              0.5555555555555556,
              "#d8576b"
             ],
             [
              0.6666666666666666,
              "#ed7953"
             ],
             [
              0.7777777777777778,
              "#fb9f3a"
             ],
             [
              0.8888888888888888,
              "#fdca26"
             ],
             [
              1,
              "#f0f921"
             ]
            ],
            "type": "histogram2d"
           }
          ],
          "histogram2dcontour": [
           {
            "colorbar": {
             "outlinewidth": 0,
             "ticks": ""
            },
            "colorscale": [
             [
              0,
              "#0d0887"
             ],
             [
              0.1111111111111111,
              "#46039f"
             ],
             [
              0.2222222222222222,
              "#7201a8"
             ],
             [
              0.3333333333333333,
              "#9c179e"
             ],
             [
              0.4444444444444444,
              "#bd3786"
             ],
             [
              0.5555555555555556,
              "#d8576b"
             ],
             [
              0.6666666666666666,
              "#ed7953"
             ],
             [
              0.7777777777777778,
              "#fb9f3a"
             ],
             [
              0.8888888888888888,
              "#fdca26"
             ],
             [
              1,
              "#f0f921"
             ]
            ],
            "type": "histogram2dcontour"
           }
          ],
          "mesh3d": [
           {
            "colorbar": {
             "outlinewidth": 0,
             "ticks": ""
            },
            "type": "mesh3d"
           }
          ],
          "parcoords": [
           {
            "line": {
             "colorbar": {
              "outlinewidth": 0,
              "ticks": ""
             }
            },
            "type": "parcoords"
           }
          ],
          "pie": [
           {
            "automargin": true,
            "type": "pie"
           }
          ],
          "scatter": [
           {
            "fillpattern": {
             "fillmode": "overlay",
             "size": 10,
             "solidity": 0.2
            },
            "type": "scatter"
           }
          ],
          "scatter3d": [
           {
            "line": {
             "colorbar": {
              "outlinewidth": 0,
              "ticks": ""
             }
            },
            "marker": {
             "colorbar": {
              "outlinewidth": 0,
              "ticks": ""
             }
            },
            "type": "scatter3d"
           }
          ],
          "scattercarpet": [
           {
            "marker": {
             "colorbar": {
              "outlinewidth": 0,
              "ticks": ""
             }
            },
            "type": "scattercarpet"
           }
          ],
          "scattergeo": [
           {
            "marker": {
             "colorbar": {
              "outlinewidth": 0,
              "ticks": ""
             }
            },
            "type": "scattergeo"
           }
          ],
          "scattergl": [
           {
            "marker": {
             "colorbar": {
              "outlinewidth": 0,
              "ticks": ""
             }
            },
            "type": "scattergl"
           }
          ],
          "scattermapbox": [
           {
            "marker": {
             "colorbar": {
              "outlinewidth": 0,
              "ticks": ""
             }
            },
            "type": "scattermapbox"
           }
          ],
          "scatterpolar": [
           {
            "marker": {
             "colorbar": {
              "outlinewidth": 0,
              "ticks": ""
             }
            },
            "type": "scatterpolar"
           }
          ],
          "scatterpolargl": [
           {
            "marker": {
             "colorbar": {
              "outlinewidth": 0,
              "ticks": ""
             }
            },
            "type": "scatterpolargl"
           }
          ],
          "scatterternary": [
           {
            "marker": {
             "colorbar": {
              "outlinewidth": 0,
              "ticks": ""
             }
            },
            "type": "scatterternary"
           }
          ],
          "surface": [
           {
            "colorbar": {
             "outlinewidth": 0,
             "ticks": ""
            },
            "colorscale": [
             [
              0,
              "#0d0887"
             ],
             [
              0.1111111111111111,
              "#46039f"
             ],
             [
              0.2222222222222222,
              "#7201a8"
             ],
             [
              0.3333333333333333,
              "#9c179e"
             ],
             [
              0.4444444444444444,
              "#bd3786"
             ],
             [
              0.5555555555555556,
              "#d8576b"
             ],
             [
              0.6666666666666666,
              "#ed7953"
             ],
             [
              0.7777777777777778,
              "#fb9f3a"
             ],
             [
              0.8888888888888888,
              "#fdca26"
             ],
             [
              1,
              "#f0f921"
             ]
            ],
            "type": "surface"
           }
          ],
          "table": [
           {
            "cells": {
             "fill": {
              "color": "#EBF0F8"
             },
             "line": {
              "color": "white"
             }
            },
            "header": {
             "fill": {
              "color": "#C8D4E3"
             },
             "line": {
              "color": "white"
             }
            },
            "type": "table"
           }
          ]
         },
         "layout": {
          "annotationdefaults": {
           "arrowcolor": "#2a3f5f",
           "arrowhead": 0,
           "arrowwidth": 1
          },
          "autotypenumbers": "strict",
          "coloraxis": {
           "colorbar": {
            "outlinewidth": 0,
            "ticks": ""
           }
          },
          "colorscale": {
           "diverging": [
            [
             0,
             "#8e0152"
            ],
            [
             0.1,
             "#c51b7d"
            ],
            [
             0.2,
             "#de77ae"
            ],
            [
             0.3,
             "#f1b6da"
            ],
            [
             0.4,
             "#fde0ef"
            ],
            [
             0.5,
             "#f7f7f7"
            ],
            [
             0.6,
             "#e6f5d0"
            ],
            [
             0.7,
             "#b8e186"
            ],
            [
             0.8,
             "#7fbc41"
            ],
            [
             0.9,
             "#4d9221"
            ],
            [
             1,
             "#276419"
            ]
           ],
           "sequential": [
            [
             0,
             "#0d0887"
            ],
            [
             0.1111111111111111,
             "#46039f"
            ],
            [
             0.2222222222222222,
             "#7201a8"
            ],
            [
             0.3333333333333333,
             "#9c179e"
            ],
            [
             0.4444444444444444,
             "#bd3786"
            ],
            [
             0.5555555555555556,
             "#d8576b"
            ],
            [
             0.6666666666666666,
             "#ed7953"
            ],
            [
             0.7777777777777778,
             "#fb9f3a"
            ],
            [
             0.8888888888888888,
             "#fdca26"
            ],
            [
             1,
             "#f0f921"
            ]
           ],
           "sequentialminus": [
            [
             0,
             "#0d0887"
            ],
            [
             0.1111111111111111,
             "#46039f"
            ],
            [
             0.2222222222222222,
             "#7201a8"
            ],
            [
             0.3333333333333333,
             "#9c179e"
            ],
            [
             0.4444444444444444,
             "#bd3786"
            ],
            [
             0.5555555555555556,
             "#d8576b"
            ],
            [
             0.6666666666666666,
             "#ed7953"
            ],
            [
             0.7777777777777778,
             "#fb9f3a"
            ],
            [
             0.8888888888888888,
             "#fdca26"
            ],
            [
             1,
             "#f0f921"
            ]
           ]
          },
          "colorway": [
           "#636efa",
           "#EF553B",
           "#00cc96",
           "#ab63fa",
           "#FFA15A",
           "#19d3f3",
           "#FF6692",
           "#B6E880",
           "#FF97FF",
           "#FECB52"
          ],
          "font": {
           "color": "#2a3f5f"
          },
          "geo": {
           "bgcolor": "white",
           "lakecolor": "white",
           "landcolor": "#E5ECF6",
           "showlakes": true,
           "showland": true,
           "subunitcolor": "white"
          },
          "hoverlabel": {
           "align": "left"
          },
          "hovermode": "closest",
          "mapbox": {
           "style": "light"
          },
          "paper_bgcolor": "white",
          "plot_bgcolor": "#E5ECF6",
          "polar": {
           "angularaxis": {
            "gridcolor": "white",
            "linecolor": "white",
            "ticks": ""
           },
           "bgcolor": "#E5ECF6",
           "radialaxis": {
            "gridcolor": "white",
            "linecolor": "white",
            "ticks": ""
           }
          },
          "scene": {
           "xaxis": {
            "backgroundcolor": "#E5ECF6",
            "gridcolor": "white",
            "gridwidth": 2,
            "linecolor": "white",
            "showbackground": true,
            "ticks": "",
            "zerolinecolor": "white"
           },
           "yaxis": {
            "backgroundcolor": "#E5ECF6",
            "gridcolor": "white",
            "gridwidth": 2,
            "linecolor": "white",
            "showbackground": true,
            "ticks": "",
            "zerolinecolor": "white"
           },
           "zaxis": {
            "backgroundcolor": "#E5ECF6",
            "gridcolor": "white",
            "gridwidth": 2,
            "linecolor": "white",
            "showbackground": true,
            "ticks": "",
            "zerolinecolor": "white"
           }
          },
          "shapedefaults": {
           "line": {
            "color": "#2a3f5f"
           }
          },
          "ternary": {
           "aaxis": {
            "gridcolor": "white",
            "linecolor": "white",
            "ticks": ""
           },
           "baxis": {
            "gridcolor": "white",
            "linecolor": "white",
            "ticks": ""
           },
           "bgcolor": "#E5ECF6",
           "caxis": {
            "gridcolor": "white",
            "linecolor": "white",
            "ticks": ""
           }
          },
          "title": {
           "x": 0.05
          },
          "xaxis": {
           "automargin": true,
           "gridcolor": "white",
           "linecolor": "white",
           "ticks": "",
           "title": {
            "standoff": 15
           },
           "zerolinecolor": "white",
           "zerolinewidth": 2
          },
          "yaxis": {
           "automargin": true,
           "gridcolor": "white",
           "linecolor": "white",
           "ticks": "",
           "title": {
            "standoff": 15
           },
           "zerolinecolor": "white",
           "zerolinewidth": 2
          }
         }
        },
        "title": {
         "font": {
          "size": 16
         },
         "text": "<br>AT&T network connections"
        },
        "xaxis": {
         "showgrid": false,
         "showticklabels": false,
         "zeroline": false
        },
        "yaxis": {
         "showgrid": false,
         "showticklabels": false,
         "zeroline": false
        }
       }
      }
     },
     "metadata": {},
     "output_type": "display_data"
    }
   ],
   "source": [
    "fig = go.Figure(\n",
    "    data=[*edge_trace, node_trace],\n",
    "    layout=go.Layout(\n",
    "        title=\"<br>AT&T network connections\",\n",
    "        titlefont=dict(size=16),\n",
    "        showlegend=False,\n",
    "        hovermode=\"closest\",\n",
    "        margin=dict(b=20, l=5, r=5, t=40),\n",
    "        annotations=[\n",
    "            dict(text=\"No. of connections\", showarrow=False, xref=\"paper\", yref=\"paper\")\n",
    "        ],\n",
    "        xaxis=dict(showgrid=False, zeroline=False, showticklabels=False),\n",
    "        yaxis=dict(showgrid=False, zeroline=False, showticklabels=False),\n",
    "    ),\n",
    ")\n",
    "\n",
    "fig.show()"
   ]
  }
 ],
 "metadata": {
  "kernelspec": {
   "display_name": "viz_env",
   "language": "python",
   "name": "python3"
  },
  "language_info": {
   "codemirror_mode": {
    "name": "ipython",
    "version": 3
   },
   "file_extension": ".py",
   "mimetype": "text/x-python",
   "name": "python",
   "nbconvert_exporter": "python",
   "pygments_lexer": "ipython3",
   "version": "3.11.7"
  }
 },
 "nbformat": 4,
 "nbformat_minor": 2
}
