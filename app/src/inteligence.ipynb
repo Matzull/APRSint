{
 "cells": [
  {
   "cell_type": "code",
   "execution_count": 1,
   "metadata": {},
   "outputs": [],
   "source": [
    "import pandas as pd\n",
    "import numpy as np\n",
    "import os\n",
    "import sys\n",
    "\n",
    "sys.path.append(os.path.join(os.path.dirname(os.getcwd())))\n",
    "from interfaces.alchemy import AlchemyInterface\n",
    "import configparser\n",
    "from db.schema import StationLocation, Station, Messages\n",
    "from geopy.distance import great_circle\n",
    "import re"
   ]
  },
  {
   "cell_type": "code",
   "execution_count": 2,
   "metadata": {},
   "outputs": [],
   "source": [
    "c_parser = configparser.ConfigParser()\n",
    "c_parser.read(\"../../config.ini\")\n",
    "config = {\"db\": dict(c_parser[\"db\"])}"
   ]
  },
  {
   "cell_type": "code",
   "execution_count": 3,
   "metadata": {},
   "outputs": [],
   "source": [
    "target = \"W6HBR\""
   ]
  },
  {
   "cell_type": "code",
   "execution_count": 4,
   "metadata": {},
   "outputs": [],
   "source": [
    "alchemy_interface = AlchemyInterface(config)"
   ]
  },
  {
   "cell_type": "code",
   "execution_count": 5,
   "metadata": {},
   "outputs": [],
   "source": [
    "station_info = alchemy_interface.select_obj(\n",
    "    Station, \"*\", df=True, **{\"station_id\": target}\n",
    ")\n",
    "station_locations = alchemy_interface.select_obj(\n",
    "    StationLocation, \"*\", df=True, **{\"station\": target}\n",
    ")\n",
    "station_messages_src = alchemy_interface.select_obj(\n",
    "    Messages, \"*\", df=True, **{\"src_station\": target}\n",
    ")\n",
    "station_messages_dst = alchemy_interface.select_obj(\n",
    "    Messages, \"*\", df=True, **{\"dst_station\": target}\n",
    ")"
   ]
  },
  {
   "cell_type": "code",
   "execution_count": 6,
   "metadata": {},
   "outputs": [
    {
     "data": {
      "text/plain": [
       "count     1\n",
       "unique    1\n",
       "top       2\n",
       "freq      1\n",
       "Name: ssid, dtype: object"
      ]
     },
     "execution_count": 6,
     "metadata": {},
     "output_type": "execute_result"
    }
   ],
   "source": [
    "station_info.ssid.describe()"
   ]
  },
  {
   "cell_type": "code",
   "execution_count": null,
   "metadata": {},
   "outputs": [],
   "source": [
    "def analyze_timestamps(timestamps):\n",
    "    # Convertir los timestamps a un objeto DateTime\n",
    "    timestamps = pd.to_datetime(timestamps)\n",
    "\n",
    "    # Calcular la frecuencia de los timestamps\n",
    "    time_diffs = timestamps.diff()  # Diferencia entre cada timestamp\n",
    "    median_freq = time_diffs.median()\n",
    "    std_diff = time_diffs.std()\n",
    "\n",
    "    # Reajustar el índice de time_diffs para alinear con timestamps\n",
    "    time_diffs = time_diffs.reindex(timestamps.index, method=\"ffill\")\n",
    "\n",
    "    max_accepted_gap = median_freq + std_diff * 2\n",
    "    gaps = timestamps[time_diffs > max_accepted_gap]\n",
    "\n",
    "    # Información adicional\n",
    "    mean_freq = time_diffs.mean()\n",
    "    min_freq = time_diffs.min()\n",
    "    max_freq = time_diffs.max()\n",
    "    start_date = timestamps.min()\n",
    "    end_date = timestamps.max()\n",
    "    num_timestamps = len(timestamps)\n",
    "    total_duration = end_date - start_date\n",
    "\n",
    "    # Crear un diccionario con los resultados\n",
    "    analysis_results = {\n",
    "        \"mean_frequency\": mean_freq,\n",
    "        \"median_frequency\": median_freq,\n",
    "        \"min_frequency\": min_freq,\n",
    "        \"max_frequency\": max_freq,\n",
    "        \"start_date\": start_date,\n",
    "        \"end_date\": end_date,\n",
    "        \"gaps\": gaps,\n",
    "        \"num_timestamps\": num_timestamps,\n",
    "        \"recorded_time\": total_duration,\n",
    "    }\n",
    "\n",
    "    return analysis_results"
   ]
  },
  {
   "cell_type": "code",
   "execution_count": null,
   "metadata": {},
   "outputs": [],
   "source": [
    "analyze_timestamps(station_locations[\"timestamp\"])"
   ]
  },
  {
   "cell_type": "code",
   "execution_count": null,
   "metadata": {},
   "outputs": [],
   "source": [
    "def analyze_locations(locations):\n",
    "    # Convertir las ubicaciones a un formato numpy para un fácil manejo\n",
    "    locations_np = np.array(locations)\n",
    "\n",
    "    # Calcular la distancia total y la distancia promedio entre puntos\n",
    "    distances = [\n",
    "        great_circle(locations_np[i], locations_np[i + 1]).kilometers\n",
    "        for i in range(len(locations_np) - 1)\n",
    "    ]\n",
    "    total_distance = sum(distances)\n",
    "    average_distance = np.mean(distances) if distances else 0\n",
    "    std_dev_distance = np.std(distances) if distances else 0\n",
    "\n",
    "    # Función para calcular el punto medio\n",
    "    def calculate_midpoint(locs):\n",
    "        lat = locs[:, 0]\n",
    "        lon = locs[:, 1]\n",
    "        return np.mean(lat), np.mean(lon)\n",
    "\n",
    "    # Calcular el punto medio\n",
    "    midpoint = calculate_midpoint(locations_np)\n",
    "\n",
    "    # Encontrar los extremos geográficos\n",
    "    northernmost = max(locations, key=lambda x: x[0])\n",
    "    southernmost = min(locations, key=lambda x: x[0])\n",
    "    easternmost = max(locations, key=lambda x: x[1])\n",
    "    westernmost = min(locations, key=lambda x: x[1])\n",
    "\n",
    "    # Calcular la distancia máxima desde el punto medio\n",
    "    max_distance_from_mid = max(\n",
    "        great_circle(midpoint, loc).kilometers for loc in locations\n",
    "    )\n",
    "\n",
    "    # Calcular el área aproximada cubierta por los puntos\n",
    "    latitudes = locations_np[:, 0]\n",
    "    longitudes = locations_np[:, 1]\n",
    "    approx_area = (\n",
    "        great_circle(\n",
    "            (latitudes.min(), longitudes.min()), (latitudes.min(), longitudes.max())\n",
    "        ).kilometers\n",
    "        * great_circle(\n",
    "            (latitudes.min(), longitudes.min()), (latitudes.max(), longitudes.min())\n",
    "        ).kilometers\n",
    "    )\n",
    "\n",
    "    return {\n",
    "        \"locations\": locations,\n",
    "        \"total_distance_km\": total_distance,\n",
    "        \"average_distance_km\": average_distance,\n",
    "        \"std_dev_distance_km\": std_dev_distance,\n",
    "        \"midpoint\": midpoint,\n",
    "        \"northernmost\": northernmost,\n",
    "        \"southernmost\": southernmost,\n",
    "        \"easternmost\": easternmost,\n",
    "        \"westernmost\": westernmost,\n",
    "        \"max_distance_from_midpoint_km\": max_distance_from_mid,\n",
    "        \"approximate_area_sq_km\": approx_area,\n",
    "    }"
   ]
  },
  {
   "cell_type": "code",
   "execution_count": null,
   "metadata": {},
   "outputs": [],
   "source": [
    "loc = analyze_locations(station_locations[[\"latitude\", \"longitude\"]].values.tolist())"
   ]
  },
  {
   "cell_type": "code",
   "execution_count": null,
   "metadata": {},
   "outputs": [],
   "source": [
    "import plotly.graph_objects as go\n",
    "\n",
    "\n",
    "def plot_map(analysis):\n",
    "    # Extraer información del análisis\n",
    "    midpoint = analysis[\"midpoint\"]\n",
    "    northernmost = analysis[\"northernmost\"]\n",
    "    southernmost = analysis[\"southernmost\"]\n",
    "    easternmost = analysis[\"easternmost\"]\n",
    "    westernmost = analysis[\"westernmost\"]\n",
    "\n",
    "    # Coordenadas para la bounding box\n",
    "    lon_box = [\n",
    "        westernmost[1],\n",
    "        easternmost[1],\n",
    "        easternmost[1],\n",
    "        westernmost[1],\n",
    "        westernmost[1],\n",
    "    ]\n",
    "    lat_box = [\n",
    "        northernmost[0],\n",
    "        northernmost[0],\n",
    "        southernmost[0],\n",
    "        southernmost[0],\n",
    "        northernmost[0],\n",
    "    ]\n",
    "\n",
    "    # Crear figura\n",
    "    fig = go.Figure()\n",
    "\n",
    "    # Añadir bounding box como un camino cerrado\n",
    "    fig.add_trace(\n",
    "        go.Scattermapbox(\n",
    "            lon=lon_box,\n",
    "            lat=lat_box,\n",
    "            mode=\"lines\",\n",
    "            line=go.scattermapbox.Line(color=\"grey\"),\n",
    "            name=\"Bounding Box\",\n",
    "        )\n",
    "    )\n",
    "\n",
    "    # Añadir puntos extremos y punto medio\n",
    "    for point, name in zip(\n",
    "        [northernmost, southernmost, easternmost, westernmost, midpoint],\n",
    "        [\"Northernmost\", \"Southernmost\", \"Easternmost\", \"Westernmost\", \"Midpoint\"],\n",
    "    ):\n",
    "        fig.add_trace(\n",
    "            go.Scattermapbox(\n",
    "                lon=[point[1]],\n",
    "                lat=[point[0]],\n",
    "                mode=\"markers\",\n",
    "                marker=go.scattermapbox.Marker(size=5, color=\"black\"),\n",
    "            )\n",
    "        )\n",
    "\n",
    "    # Establecer la vista inicial del mapa\n",
    "    fig.update_layout(\n",
    "        mapbox_style=\"open-street-map\",\n",
    "        mapbox={\"center\": {\"lon\": midpoint[1], \"lat\": midpoint[0]}, \"zoom\": 10},\n",
    "    )\n",
    "    lats, lons = zip(*analysis[\"locations\"])\n",
    "    fig.add_trace(\n",
    "        go.Scattermapbox(\n",
    "            lon=lons,\n",
    "            lat=lats,\n",
    "            mode=\"markers+lines\",\n",
    "            line=go.scattermapbox.Line(color=\"black\"),\n",
    "            marker=go.scattermapbox.Marker(size=10, color=\"blue\"),\n",
    "            name=\"Bounding Box\",\n",
    "        )\n",
    "    )\n",
    "\n",
    "    # Mostrar figura\n",
    "    fig.show()"
   ]
  },
  {
   "cell_type": "code",
   "execution_count": null,
   "metadata": {},
   "outputs": [],
   "source": [
    "def analyze_loc_temporal(locations_timestamp):\n",
    "    # Convert column to datetime\n",
    "    locations_timestamp[\"timestamp\"].apply(lambda x: pd.to_datetime(x))\n",
    "    coordinates = list(\n",
    "        zip(locations_timestamp[\"latitude\"], locations_timestamp[\"longitude\"])\n",
    "    )\n",
    "    locations_timestamp = locations_timestamp.assign(coordinate=coordinates)\n",
    "    locations_timestamp[\"time_elapsed\"] = (\n",
    "        locations_timestamp.groupby(\"coordinate\")[\"timestamp\"]\n",
    "        .diff()\n",
    "        .fillna(pd.Timedelta(seconds=0))\n",
    "    )\n",
    "\n",
    "    # Calcular el tiempo total pasado en cada coordenada\n",
    "    total_time_elapsed = locations_timestamp.groupby(\"coordinate\")[\"time_elapsed\"].sum()\n",
    "\n",
    "    # Calcular la frecuencia de visitas a cada coordenada\n",
    "    visit_frequency = locations_timestamp[\"coordinate\"].value_counts()\n",
    "\n",
    "    # Calcular la fecha y hora de la primera y última visita a cada coordenada\n",
    "    first_visit = locations_timestamp.groupby(\"coordinate\")[\"timestamp\"].min()\n",
    "    last_visit = locations_timestamp.groupby(\"coordinate\")[\"timestamp\"].max()\n",
    "\n",
    "    # Calcular la duración total de la estancia en cada coordenada\n",
    "    total_stay_duration = last_visit - first_visit\n",
    "\n",
    "    # Crear un DataFrame con los resultados\n",
    "    results_df = pd.DataFrame(\n",
    "        {\n",
    "            \"total_time_elapsed\": total_time_elapsed,\n",
    "            \"visit_frequency\": visit_frequency,\n",
    "            \"first_visit\": first_visit,\n",
    "            \"last_visit\": last_visit,\n",
    "            \"total_stay_duration\": total_stay_duration,\n",
    "        }\n",
    "    )\n",
    "\n",
    "    return results_df"
   ]
  },
  {
   "cell_type": "code",
   "execution_count": null,
   "metadata": {},
   "outputs": [],
   "source": [
    "analyze_loc_temporal(station_locations[[\"latitude\", \"longitude\", \"timestamp\"]])"
   ]
  },
  {
   "cell_type": "code",
   "execution_count": 100,
   "metadata": {},
   "outputs": [],
   "source": [
    "def analyze_comment(comments):\n",
    "    # Calcular la frecuencia de comentarios distintos\n",
    "    unique_comments_freq = comments.value_counts()\n",
    "\n",
    "    pattern = re.compile(\n",
    "        r\"\\b((https?|ftp):\\/\\/)?([\\w-]+(\\.[\\w-]+)+)([\\/\\w-]*)*(\\?\\w+=\\w+(&\\w+=\\w+)*)?\\b\"\n",
    "    )\n",
    "    urls = comments.apply(lambda x: pattern.search(x).group(0))\n",
    "    has_url = urls.apply(lambda x: x is not None)\n",
    "\n",
    "    results_list = []\n",
    "    for comment, freq, has_url_val, url in zip(\n",
    "        unique_comments_freq.index, unique_comments_freq.values, has_url, urls\n",
    "    ):\n",
    "        result_dict = {\n",
    "            \"Comment\": comment,\n",
    "            \"Freq\": freq,\n",
    "            \"has_url\": has_url_val,\n",
    "            \"URL\": url,\n",
    "        }\n",
    "        results_list.append(result_dict)\n",
    "\n",
    "    return results_list"
   ]
  },
  {
   "cell_type": "code",
   "execution_count": 101,
   "metadata": {},
   "outputs": [
    {
     "data": {
      "text/plain": [
       "[{'Comment': 'HBRACES.NET, AllStar 49372 (2m) & 49374 (70cm)',\n",
       "  'Freq': 29,\n",
       "  'has_url': True,\n",
       "  'URL': 'HBRACES.NET'}]"
      ]
     },
     "execution_count": 101,
     "metadata": {},
     "output_type": "execute_result"
    }
   ],
   "source": [
    "analyze_comment(station_messages_src[\"comment\"])"
   ]
  }
 ],
 "metadata": {
  "kernelspec": {
   "display_name": "tfg_env",
   "language": "python",
   "name": "python3"
  },
  "language_info": {
   "codemirror_mode": {
    "name": "ipython",
    "version": 3
   },
   "file_extension": ".py",
   "mimetype": "text/x-python",
   "name": "python",
   "nbconvert_exporter": "python",
   "pygments_lexer": "ipython3",
   "version": "3.11.7"
  }
 },
 "nbformat": 4,
 "nbformat_minor": 2
}
