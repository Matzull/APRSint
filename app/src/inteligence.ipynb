{
 "cells": [
  {
   "cell_type": "code",
   "execution_count": 1,
   "metadata": {},
   "outputs": [],
   "source": [
    "import pandas as pd\n",
    "import numpy as np\n",
    "import os\n",
    "import sys\n",
    "from time import time_ns\n",
    "\n",
    "sys.path.append(os.path.join(os.path.dirname(os.getcwd())))\n",
    "from interfaces.alchemy import AlchemyInterface\n",
    "import configparser\n",
    "from db.schema import StationLocation, Station, Messages"
   ]
  },
  {
   "cell_type": "code",
   "execution_count": 2,
   "metadata": {},
   "outputs": [],
   "source": [
    "c_parser = configparser.ConfigParser()\n",
    "c_parser.read(\"../../config.ini\")\n",
    "config = {\"db\": dict(c_parser[\"db\"])}"
   ]
  },
  {
   "cell_type": "code",
   "execution_count": 3,
   "metadata": {},
   "outputs": [],
   "source": [
    "target = \"W6HBR-2\""
   ]
  },
  {
   "cell_type": "code",
   "execution_count": 4,
   "metadata": {},
   "outputs": [],
   "source": [
    "alchemy_interface = AlchemyInterface(config)"
   ]
  },
  {
   "cell_type": "code",
   "execution_count": 5,
   "metadata": {},
   "outputs": [],
   "source": [
    "station_info = alchemy_interface.select_obj(Station, \"*\", df=True, **{\"station_id\" : target})\n",
    "station_locations = alchemy_interface.select_obj(StationLocation, \"*\", df=True, **{\"station\" : target})\n",
    "station_messages_src = alchemy_interface.select_obj(Messages, \"*\", df=True, **{\"src_station\" : target})\n",
    "station_messages_dst = alchemy_interface.select_obj(Messages, \"*\", df=True, **{\"dst_station\" : target})"
   ]
  },
  {
   "cell_type": "code",
   "execution_count": null,
   "metadata": {},
   "outputs": [],
   "source": [
    "def analyze_timestamps(timestamps):\n",
    "    # Convertir los timestamps a un objeto DateTime\n",
    "    timestamps = pd.to_datetime(timestamps)\n",
    "    \n",
    "    # Calcular la frecuencia de los timestamps\n",
    "    time_diffs = timestamps.diff().dropna()  # Diferencia entre cada timestamp\n",
    "    mean_freq = time_diffs.mean()  # Frecuencia media\n",
    "    min_freq = time_diffs.min()  # Frecuencia mínima\n",
    "    max_freq = time_diffs.max()  # Frecuencia máxima\n",
    "    \n",
    "    # Calcular fechas de inicio y final\n",
    "    start_date = timestamps.min()\n",
    "    end_date = timestamps.max()\n",
    "    \n",
    "    # Calcular paradas en el tiempo (gaps) si los hay\n",
    "    gaps = timestamps[timestamps.diff() > pd.Timedelta(minutes=5)].index.tolist()  # Suponiendo un gap de más de 5 minutos\n",
    "    \n",
    "    # Información adicional que puedes considerar\n",
    "    num_timestamps = len(timestamps)\n",
    "    total_duration = timestamps.max() - timestamps.min()\n",
    "    \n",
    "    # Crear un diccionario con los resultados\n",
    "    analysis_results = {\n",
    "        \"mean_frequency\": mean_freq,\n",
    "        \"min_frequency\": min_freq,\n",
    "        \"max_frequency\": max_freq,\n",
    "        \"start_date\": start_date,\n",
    "        \"end_date\": end_date,\n",
    "        \"gaps\": gaps,\n",
    "        \"num_timestamps\": num_timestamps,\n",
    "        \"total_duration\": total_duration\n",
    "    }\n",
    "    \n",
    "    return analysis_results"
   ]
  },
  {
   "cell_type": "code",
   "execution_count": 9,
   "metadata": {},
   "outputs": [
    {
     "data": {
      "text/html": [
       "<div>\n",
       "<style scoped>\n",
       "    .dataframe tbody tr th:only-of-type {\n",
       "        vertical-align: middle;\n",
       "    }\n",
       "\n",
       "    .dataframe tbody tr th {\n",
       "        vertical-align: top;\n",
       "    }\n",
       "\n",
       "    .dataframe thead th {\n",
       "        text-align: right;\n",
       "    }\n",
       "</style>\n",
       "<table border=\"1\" class=\"dataframe\">\n",
       "  <thead>\n",
       "    <tr style=\"text-align: right;\">\n",
       "      <th></th>\n",
       "      <th>src_station</th>\n",
       "      <th>dst_station</th>\n",
       "      <th>path</th>\n",
       "      <th>timestamp</th>\n",
       "      <th>comment</th>\n",
       "      <th>raw_packet</th>\n",
       "    </tr>\n",
       "  </thead>\n",
       "  <tbody>\n",
       "  </tbody>\n",
       "</table>\n",
       "</div>"
      ],
      "text/plain": [
       "Empty DataFrame\n",
       "Columns: [src_station, dst_station, path, timestamp, comment, raw_packet]\n",
       "Index: []"
      ]
     },
     "execution_count": 9,
     "metadata": {},
     "output_type": "execute_result"
    }
   ],
   "source": [
    "station_messages_dst"
   ]
  }
 ],
 "metadata": {
  "kernelspec": {
   "display_name": "tfg_env",
   "language": "python",
   "name": "python3"
  },
  "language_info": {
   "codemirror_mode": {
    "name": "ipython",
    "version": 3
   },
   "file_extension": ".py",
   "mimetype": "text/x-python",
   "name": "python",
   "nbconvert_exporter": "python",
   "pygments_lexer": "ipython3",
   "version": "3.11.7"
  }
 },
 "nbformat": 4,
 "nbformat_minor": 2
}
