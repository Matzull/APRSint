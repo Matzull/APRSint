{
 "cells": [
  {
   "cell_type": "code",
   "execution_count": null,
   "metadata": {},
   "outputs": [],
   "source": [
    "import pandas as pd\n",
    "import plotly.express as px\n",
    "import plotly.graph_objects as go\n",
    "from sklearn.neighbors import NearestNeighbors\n",
    "import numpy as np\n",
    "import json\n"
   ]
  },
  {
   "cell_type": "code",
   "execution_count": null,
   "metadata": {},
   "outputs": [],
   "source": [
    "data = json.load(open(\"data_1956.json\"))"
   ]
  },
  {
   "cell_type": "code",
   "execution_count": null,
   "metadata": {},
   "outputs": [],
   "source": [
    "for p in data:\n",
    "    print(p[\"raw\"])"
   ]
  },
  {
   "cell_type": "code",
   "execution_count": null,
   "metadata": {},
   "outputs": [],
   "source": [
    "df = pd.read_json(\"data_1956.json\")"
   ]
  },
  {
   "cell_type": "code",
   "execution_count": null,
   "metadata": {},
   "outputs": [],
   "source": [
    "df.columns"
   ]
  },
  {
   "cell_type": "code",
   "execution_count": null,
   "metadata": {},
   "outputs": [],
   "source": [
    "df.isnull().sum()"
   ]
  },
  {
   "cell_type": "code",
   "execution_count": null,
   "metadata": {},
   "outputs": [],
   "source": [
    "df = df.dropna(subset=[\"latitude\", \"longitude\"])"
   ]
  },
  {
   "cell_type": "code",
   "execution_count": null,
   "metadata": {},
   "outputs": [],
   "source": [
    "df.iloc[0]"
   ]
  },
  {
   "cell_type": "code",
   "execution_count": null,
   "metadata": {},
   "outputs": [],
   "source": [
    "coords = df[['latitude', 'longitude']].values\n",
    "\n",
    "# Usar NearestNeighbors para encontrar vecinos en un radio\n",
    "# El radio está en grados y puedes ajustarlo según tus necesidades\n",
    "radius = 0.5  # Ajusta este valor según tus necesidades\n",
    "nbrs = NearestNeighbors(radius=radius, algorithm='ball_tree').fit(coords)\n",
    "distances, indices = nbrs.radius_neighbors(coords)\n",
    "\n",
    "# Calcular la densidad: número de puntos en el radio para cada punto\n",
    "density = np.array([len(indices[i]) for i in range(len(coords))])\n",
    "\n",
    "# Agregar la densidad al DataFrame original\n",
    "df['density'] = density"
   ]
  },
  {
   "cell_type": "code",
   "execution_count": null,
   "metadata": {},
   "outputs": [],
   "source": [
    "fig = px.scatter_mapbox(\n",
    "    df,\n",
    "    lon=\"longitude\",\n",
    "    lat=\"latitude\",\n",
    "    color=\"density\",\n",
    "    color_continuous_scale=\"hot\",\n",
    "    #  projection=\"robinson\",\n",
    ")\n",
    "fig.update_layout(\n",
    "    showlegend=False, \n",
    "    paper_bgcolor=\"black\", \n",
    "    geo_bgcolor=\"black\",\n",
    "    mapbox_style=\"dark\",\n",
    "    mapbox_accesstoken=token,\n",
    "    )\n",
    "fig.update_traces(marker=dict(size=5))\n",
    "fig.show()"
   ]
  },
  {
   "cell_type": "code",
   "execution_count": null,
   "metadata": {},
   "outputs": [],
   "source": []
  }
 ],
 "metadata": {
  "kernelspec": {
   "display_name": "tfg_env",
   "language": "python",
   "name": "python3"
  },
  "language_info": {
   "codemirror_mode": {
    "name": "ipython",
    "version": 3
   },
   "file_extension": ".py",
   "mimetype": "text/x-python",
   "name": "python",
   "nbconvert_exporter": "python",
   "pygments_lexer": "ipython3",
   "version": "3.11.7"
  }
 },
 "nbformat": 4,
 "nbformat_minor": 2
}
