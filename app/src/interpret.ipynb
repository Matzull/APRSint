{
 "cells": [
  {
   "cell_type": "code",
   "execution_count": 3,
   "metadata": {},
   "outputs": [],
   "source": [
    "import pandas as pd"
   ]
  },
  {
   "cell_type": "code",
   "execution_count": 4,
   "metadata": {},
   "outputs": [],
   "source": [
    "df = pd.read_json('data_106.json')"
   ]
  },
  {
   "cell_type": "code",
   "execution_count": 7,
   "metadata": {},
   "outputs": [
    {
     "name": "stdout",
     "output_type": "stream",
     "text": [
      "<class 'pandas.core.frame.DataFrame'>\n",
      "Index: 9247 entries, 0 to 9246\n",
      "Data columns (total 54 columns):\n",
      " #   Column            Non-Null Count  Dtype  \n",
      "---  ------            --------------  -----  \n",
      " 0   raw               9247 non-null   object \n",
      " 1   from              9247 non-null   object \n",
      " 2   to                9247 non-null   object \n",
      " 3   path              9247 non-null   object \n",
      " 4   via               9247 non-null   object \n",
      " 5   messagecapable    5695 non-null   float64\n",
      " 6   format            9247 non-null   object \n",
      " 7   posambiguity      7133 non-null   float64\n",
      " 8   symbol            7348 non-null   object \n",
      " 9   symbol_table      7348 non-null   object \n",
      " 10  latitude          7348 non-null   float64\n",
      " 11  longitude         7348 non-null   float64\n",
      " 12  comment           7366 non-null   object \n",
      " 13  mbits             451 non-null    float64\n",
      " 14  mtype             451 non-null    object \n",
      " 15  speed             1701 non-null   float64\n",
      " 16  course            2009 non-null   float64\n",
      " 17  altitude          2567 non-null   float64\n",
      " 18  object_name       1202 non-null   object \n",
      " 19  alive             1202 non-null   float64\n",
      " 20  raw_timestamp     3333 non-null   object \n",
      " 21  timestamp         3333 non-null   float64\n",
      " 22  object_format     1202 non-null   object \n",
      " 23  addresse          1272 non-null   object \n",
      " 24  tUNIT             249 non-null    object \n",
      " 25  phg               1269 non-null   object \n",
      " 26  phg_power         1269 non-null   float64\n",
      " 27  phg_height        1269 non-null   float64\n",
      " 28  phg_gain          1269 non-null   float64\n",
      " 29  phg_dir           1269 non-null   object \n",
      " 30  phg_range         1269 non-null   float64\n",
      " 31  rng               722 non-null    float64\n",
      " 32  daodatumbyte      217 non-null    object \n",
      " 33  message_text      580 non-null    object \n",
      " 34  msgNo             317 non-null    object \n",
      " 35  weather           1100 non-null   object \n",
      " 36  status            507 non-null    object \n",
      " 37  text              85 non-null     object \n",
      " 38  response          105 non-null    object \n",
      " 39  gpsfixstatus      78 non-null     float64\n",
      " 40  tPARM             131 non-null    object \n",
      " 41  tEQNS             126 non-null    object \n",
      " 42  tBITS             88 non-null     float64\n",
      " 43  title             88 non-null     object \n",
      " 44  bid               7 non-null      float64\n",
      " 45  identifier        7 non-null      object \n",
      " 46  phg_rate          42 non-null     float64\n",
      " 47  wx_raw_timestamp  22 non-null     float64\n",
      " 48  telemetry         46 non-null     object \n",
      " 49  radiorange        2 non-null      float64\n",
      " 50  id                6 non-null      object \n",
      " 51  type              6 non-null      object \n",
      " 52  body              6 non-null      object \n",
      " 53  ackMsgNo          2 non-null      object \n",
      "dtypes: float64(21), object(33)\n",
      "memory usage: 3.9+ MB\n"
     ]
    }
   ],
   "source": [
    "df.info()"
   ]
  }
 ],
 "metadata": {
  "kernelspec": {
   "display_name": "tfg_env",
   "language": "python",
   "name": "python3"
  },
  "language_info": {
   "codemirror_mode": {
    "name": "ipython",
    "version": 3
   },
   "file_extension": ".py",
   "mimetype": "text/x-python",
   "name": "python",
   "nbconvert_exporter": "python",
   "pygments_lexer": "ipython3",
   "version": "3.11.7"
  }
 },
 "nbformat": 4,
 "nbformat_minor": 2
}
