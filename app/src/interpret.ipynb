{
 "cells": [
  {
   "cell_type": "code",
   "execution_count": 1,
   "metadata": {},
   "outputs": [],
   "source": [
    "import os\n",
    "import sys\n",
    "\n",
    "sys.path.append(os.path.join(os.path.dirname(os.getcwd())))\n",
    "from interfaces.alchemy import AlchemyInterface\n",
    "import configparser\n",
    "from web.fetch_data_web import StationFetcher"
   ]
  },
  {
   "cell_type": "code",
   "execution_count": 2,
   "metadata": {},
   "outputs": [],
   "source": [
    "c_parser = configparser.ConfigParser()\n",
    "c_parser.read(\"../../config.ini\")\n",
    "config = {\"db\": dict(c_parser[\"db\"])}"
   ]
  },
  {
   "cell_type": "code",
   "execution_count": 3,
   "metadata": {},
   "outputs": [],
   "source": [
    "alchemy_interface = AlchemyInterface(config)"
   ]
  },
  {
   "cell_type": "code",
   "execution_count": 4,
   "metadata": {},
   "outputs": [],
   "source": [
    "fet = StationFetcher(\"W6HBR-2\")"
   ]
  },
  {
   "cell_type": "code",
   "execution_count": 5,
   "metadata": {},
   "outputs": [
    {
     "name": "stdout",
     "output_type": "stream",
     "text": [
      "Fetching station\n"
     ]
    }
   ],
   "source": [
    "data = fet.fetch_data()"
   ]
  },
  {
   "cell_type": "code",
   "execution_count": 19,
   "metadata": {},
   "outputs": [
    {
     "data": {
      "text/plain": [
       "[Timestamp('2024-03-12 22:43:22.418721'),\n",
       " Timestamp('2024-03-12 22:43:22.921019'),\n",
       " Timestamp('2024-03-12 22:43:55.334729'),\n",
       " Timestamp('2024-03-12 22:43:55.716123'),\n",
       " Timestamp('2024-03-12 22:43:56.156796'),\n",
       " Timestamp('2024-03-12 22:44:27.421676'),\n",
       " Timestamp('2024-03-12 22:44:27.887957'),\n",
       " Timestamp('2024-03-12 22:44:59.123610'),\n",
       " Timestamp('2024-03-12 22:44:59.742090'),\n",
       " Timestamp('2024-03-12 22:45:00.187650')]"
      ]
     },
     "execution_count": 19,
     "metadata": {},
     "output_type": "execute_result"
    }
   ],
   "source": [
    "[row.iloc[0] for _, row in data.iterrows()]"
   ]
  },
  {
   "cell_type": "code",
   "execution_count": 6,
   "metadata": {},
   "outputs": [
    {
     "data": {
      "text/plain": [
       "[{'value': 'i'},\n",
       " {'value': 'a'},\n",
       " {'value': 'o'},\n",
       " {'value': 'o'},\n",
       " {'value': 's'},\n",
       " {'value': 'a'},\n",
       " {'value': 'o'}]"
      ]
     },
     "execution_count": 6,
     "metadata": {},
     "output_type": "execute_result"
    }
   ],
   "source": [
    "[{\"value\": str(val[1])} for val in data[1][1:]]"
   ]
  }
 ],
 "metadata": {
  "kernelspec": {
   "display_name": "tfg_env",
   "language": "python",
   "name": "python3"
  },
  "language_info": {
   "codemirror_mode": {
    "name": "ipython",
    "version": 3
   },
   "file_extension": ".py",
   "mimetype": "text/x-python",
   "name": "python",
   "nbconvert_exporter": "python",
   "pygments_lexer": "ipython3",
   "version": "3.11.7"
  }
 },
 "nbformat": 4,
 "nbformat_minor": 2
}
