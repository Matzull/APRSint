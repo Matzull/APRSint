{
 "cells": [
  {
   "cell_type": "code",
   "execution_count": null,
   "metadata": {},
   "outputs": [],
   "source": [
    "import pandas as pd\n",
    "import plotly.express as px\n",
    "import plotly.graph_objects as go\n",
    "from sklearn.neighbors import NearestNeighbors\n",
    "import numpy as np\n",
    "import os\n",
    "import sys\n",
    "import webbrowser\n",
    "from time import time_ns\n",
    "\n",
    "sys.path.append(os.path.join(os.path.dirname(os.getcwd())))\n",
    "from interfaces.alchemy import AlchemyInterface\n",
    "import configparser\n",
    "from db.schema import StationLocation"
   ]
  },
  {
   "cell_type": "code",
   "execution_count": null,
   "metadata": {},
   "outputs": [],
   "source": [
    "c_parser = configparser.ConfigParser()\n",
    "c_parser.read(\"../../config.ini\")\n",
    "config = {\"db\": dict(c_parser[\"db\"])}"
   ]
  },
  {
   "cell_type": "code",
   "execution_count": null,
   "metadata": {},
   "outputs": [],
   "source": [
    "alchemy_interface = AlchemyInterface(config)"
   ]
  },
  {
   "cell_type": "code",
   "execution_count": null,
   "metadata": {},
   "outputs": [],
   "source": [
    "time_start = time_ns()\n",
    "data = alchemy_interface.select_obj(StationLocation)\n",
    "time_query = time_ns()\n",
    "print(\"Time to query data: \", (time_query - time_start) / 1e6, \" ms\")"
   ]
  },
  {
   "cell_type": "code",
   "execution_count": null,
   "metadata": {},
   "outputs": [],
   "source": [
    "df = pd.DataFrame().from_records(\n",
    "    [packet for packet in data], columns=StationLocation.__columns__\n",
    ")"
   ]
  },
  {
   "cell_type": "code",
   "execution_count": null,
   "metadata": {},
   "outputs": [],
   "source": [
    "df.info()"
   ]
  },
  {
   "cell_type": "code",
   "execution_count": null,
   "metadata": {},
   "outputs": [],
   "source": [
    "df = df.dropna(subset=[\"latitude\", \"longitude\"])"
   ]
  },
  {
   "cell_type": "code",
   "execution_count": null,
   "metadata": {},
   "outputs": [],
   "source": [
    "coords = df[[\"latitude\", \"longitude\"]].values\n",
    "\n",
    "# Usar NearestNeighbors para encontrar vecinos en un radio\n",
    "# El radio está en grados y puedes ajustarlo según tus necesidades\n",
    "radius = 0.5  # Ajusta este valor según tus necesidades\n",
    "nbrs = NearestNeighbors(radius=radius, algorithm=\"ball_tree\").fit(coords)\n",
    "distances, indices = nbrs.radius_neighbors(coords)\n",
    "\n",
    "# Calcular la densidad: número de puntos en el radio para cada punto\n",
    "density = np.array([len(indices[i]) for i in range(len(coords))])\n",
    "\n",
    "# Agregar la densidad al DataFrame original\n",
    "df[\"density\"] = density"
   ]
  },
  {
   "cell_type": "code",
   "execution_count": null,
   "metadata": {},
   "outputs": [],
   "source": [
    "def do_click(trace, points, state):\n",
    "    print(\"clicked\")\n",
    "    if points.point_inds:\n",
    "        ind = points.point_inds[0]\n",
    "        url = df.link.iloc[ind]\n",
    "        webbrowser.open_new_tab(url)\n",
    "\n",
    "\n",
    "# The logic of drawing a graph\n",
    "def bar_func(df):\n",
    "    fig = px.scatter_mapbox(\n",
    "        df,\n",
    "        lon=\"longitude\",\n",
    "        lat=\"latitude\",\n",
    "    )\n",
    "\n",
    "    fig.update_traces(\n",
    "        marker=go.scattermapbox.Marker(\n",
    "            size=5,\n",
    "        ),\n",
    "    )\n",
    "\n",
    "    fig.update_layout(\n",
    "        hovermode=\"closest\",\n",
    "        mapbox_style=\"dark\",\n",
    "        mapbox_accesstoken=c_parser[\"mapbox\"][\"token\"],\n",
    "    )\n",
    "    fig.data[0].on_click(do_click)\n",
    "    fig.show()\n",
    "\n",
    "\n",
    "bar_func(df)"
   ]
  },
  {
   "cell_type": "code",
   "execution_count": 28,
   "metadata": {},
   "outputs": [
    {
     "data": {
      "application/vnd.jupyter.widget-view+json": {
       "model_id": "05f8bcb204ba4c0a9f6f2ff860ee5ddb",
       "version_major": 2,
       "version_minor": 0
      },
      "text/plain": [
       "FigureWidget({\n",
       "    'data': [{'mode': 'markers',\n",
       "              'type': 'scatter',\n",
       "              'uid': 'a069bf5c-e50e-47c4-bdb6-f818417f26b7',\n",
       "              'x': array([0.32580997, 0.88982734, 0.75170772, 0.7626321 , 0.46947903, 0.2107645 ,\n",
       "                          0.04147508, 0.3218288 , 0.03711266, 0.69385541, 0.67035003, 0.43047178,\n",
       "                          0.76778898, 0.53600849, 0.03985993, 0.13479312, 0.1934164 , 0.3356638 ,\n",
       "                          0.05231295, 0.60511678, 0.51206103, 0.61746101, 0.43235559, 0.84770047,\n",
       "                          0.45405906, 0.01540352, 0.87306815, 0.65620155, 0.82300304, 0.95177569,\n",
       "                          0.05091238, 0.23507186, 0.06334344, 0.42165789, 0.86382915, 0.08162398,\n",
       "                          0.47311195, 0.12554311, 0.7728856 , 0.84142216, 0.04329094, 0.48644074,\n",
       "                          0.23941104, 0.95247378, 0.94389263, 0.613934  , 0.9734874 , 0.34486134,\n",
       "                          0.89785072, 0.43459497, 0.23581464, 0.94082796, 0.68421805, 0.06491159,\n",
       "                          0.87042486, 0.70138029, 0.60492687, 0.7323749 , 0.25343904, 0.60048896,\n",
       "                          0.81461918, 0.05411366, 0.13051067, 0.84244581, 0.61834587, 0.53128781,\n",
       "                          0.24829073, 0.29507858, 0.87268616, 0.42166593, 0.06443026, 0.89698507,\n",
       "                          0.20338083, 0.82622754, 0.88177062, 0.48675074, 0.59846469, 0.52726746,\n",
       "                          0.62482129, 0.85504172, 0.28213945, 0.88375551, 0.56769033, 0.11510304,\n",
       "                          0.22700117, 0.59598239, 0.23944624, 0.13141566, 0.16184771, 0.84487252,\n",
       "                          0.60218365, 0.96356709, 0.34567921, 0.5956251 , 0.59898529, 0.61570429,\n",
       "                          0.05917721, 0.75031718, 0.9482095 , 0.53467906]),\n",
       "              'y': array([0.19255602, 0.75292591, 0.00731897, 0.3282561 , 0.91760635, 0.58836733,\n",
       "                          0.85519028, 0.60467205, 0.82257815, 0.87948352, 0.32098637, 0.12295477,\n",
       "                          0.72130334, 0.44034709, 0.12673571, 0.58982365, 0.03606831, 0.20018212,\n",
       "                          0.78830119, 0.01209676, 0.30334567, 0.02137596, 0.99748499, 0.58202998,\n",
       "                          0.29337628, 0.92894946, 0.50711942, 0.45469223, 0.58787151, 0.26413764,\n",
       "                          0.3052883 , 0.37165458, 0.244448  , 0.58454727, 0.69584613, 0.07194722,\n",
       "                          0.97108332, 0.75307066, 0.80616316, 0.7516404 , 0.08006098, 0.48169628,\n",
       "                          0.44567296, 0.67247265, 0.44873726, 0.7043134 , 0.68164534, 0.69714853,\n",
       "                          0.61860074, 0.15098073, 0.76080246, 0.78104582, 0.90410299, 0.23376869,\n",
       "                          0.17667889, 0.39109912, 0.32056465, 0.81547693, 0.6135259 , 0.76000175,\n",
       "                          0.4276651 , 0.09944056, 0.11503501, 0.37340713, 0.19384777, 0.8207465 ,\n",
       "                          0.59963601, 0.68884526, 0.49110996, 0.08817368, 0.23507764, 0.46160208,\n",
       "                          0.1985915 , 0.02547624, 0.7293977 , 0.72491675, 0.33039175, 0.84349413,\n",
       "                          0.42844248, 0.86468614, 0.65706542, 0.58103566, 0.20072749, 0.52954661,\n",
       "                          0.89443242, 0.30499398, 0.87094561, 0.90874527, 0.32984456, 0.68307437,\n",
       "                          0.89922095, 0.07569688, 0.87858786, 0.19083936, 0.84976891, 0.66711879,\n",
       "                          0.3443392 , 0.15137557, 0.63537096, 0.84778804])}],\n",
       "    'layout': {'hovermode': 'closest', 'template': '...'}\n",
       "})"
      ]
     },
     "execution_count": 28,
     "metadata": {},
     "output_type": "execute_result"
    },
    {
     "name": "stdout",
     "output_type": "stream",
     "text": [
      "Clicked\n"
     ]
    },
    {
     "ename": "IndexError",
     "evalue": "single positional indexer is out-of-bounds",
     "output_type": "error",
     "traceback": [
      "\u001b[0;31m---------------------------------------------------------------------------\u001b[0m",
      "\u001b[0;31mIndexError\u001b[0m                                Traceback (most recent call last)",
      "File \u001b[0;32m~/miniforge3/envs/tfg_env/lib/python3.11/site-packages/ipywidgets/widgets/widget.py:773\u001b[0m, in \u001b[0;36mWidget._handle_msg\u001b[0;34m(self, msg)\u001b[0m\n\u001b[1;32m    771\u001b[0m         \u001b[38;5;28;01mif\u001b[39;00m \u001b[38;5;124m'\u001b[39m\u001b[38;5;124mbuffer_paths\u001b[39m\u001b[38;5;124m'\u001b[39m \u001b[38;5;129;01min\u001b[39;00m data:\n\u001b[1;32m    772\u001b[0m             _put_buffers(state, data[\u001b[38;5;124m'\u001b[39m\u001b[38;5;124mbuffer_paths\u001b[39m\u001b[38;5;124m'\u001b[39m], msg[\u001b[38;5;124m'\u001b[39m\u001b[38;5;124mbuffers\u001b[39m\u001b[38;5;124m'\u001b[39m])\n\u001b[0;32m--> 773\u001b[0m         \u001b[38;5;28;43mself\u001b[39;49m\u001b[38;5;241;43m.\u001b[39;49m\u001b[43mset_state\u001b[49m\u001b[43m(\u001b[49m\u001b[43mstate\u001b[49m\u001b[43m)\u001b[49m\n\u001b[1;32m    775\u001b[0m \u001b[38;5;66;03m# Handle a state request.\u001b[39;00m\n\u001b[1;32m    776\u001b[0m \u001b[38;5;28;01melif\u001b[39;00m method \u001b[38;5;241m==\u001b[39m \u001b[38;5;124m'\u001b[39m\u001b[38;5;124mrequest_state\u001b[39m\u001b[38;5;124m'\u001b[39m:\n",
      "File \u001b[0;32m~/miniforge3/envs/tfg_env/lib/python3.11/site-packages/ipywidgets/widgets/widget.py:650\u001b[0m, in \u001b[0;36mWidget.set_state\u001b[0;34m(self, sync_data)\u001b[0m\n\u001b[1;32m    645\u001b[0m         \u001b[38;5;28mself\u001b[39m\u001b[38;5;241m.\u001b[39m_send(msg, buffers\u001b[38;5;241m=\u001b[39mecho_buffers)\n\u001b[1;32m    647\u001b[0m \u001b[38;5;66;03m# The order of these context managers is important. Properties must\u001b[39;00m\n\u001b[1;32m    648\u001b[0m \u001b[38;5;66;03m# be locked when the hold_trait_notification context manager is\u001b[39;00m\n\u001b[1;32m    649\u001b[0m \u001b[38;5;66;03m# released and notifications are fired.\u001b[39;00m\n\u001b[0;32m--> 650\u001b[0m \u001b[43m\u001b[49m\u001b[38;5;28;43;01mwith\u001b[39;49;00m\u001b[43m \u001b[49m\u001b[38;5;28;43mself\u001b[39;49m\u001b[38;5;241;43m.\u001b[39;49m\u001b[43m_lock_property\u001b[49m\u001b[43m(\u001b[49m\u001b[38;5;241;43m*\u001b[39;49m\u001b[38;5;241;43m*\u001b[39;49m\u001b[43msync_data\u001b[49m\u001b[43m)\u001b[49m\u001b[43m,\u001b[49m\u001b[43m \u001b[49m\u001b[38;5;28;43mself\u001b[39;49m\u001b[38;5;241;43m.\u001b[39;49m\u001b[43mhold_trait_notifications\u001b[49m\u001b[43m(\u001b[49m\u001b[43m)\u001b[49m\u001b[43m:\u001b[49m\n\u001b[1;32m    651\u001b[0m \u001b[43m    \u001b[49m\u001b[38;5;28;43;01mfor\u001b[39;49;00m\u001b[43m \u001b[49m\u001b[43mname\u001b[49m\u001b[43m \u001b[49m\u001b[38;5;129;43;01min\u001b[39;49;00m\u001b[43m \u001b[49m\u001b[43msync_data\u001b[49m\u001b[43m:\u001b[49m\n\u001b[1;32m    652\u001b[0m \u001b[43m        \u001b[49m\u001b[38;5;28;43;01mif\u001b[39;49;00m\u001b[43m \u001b[49m\u001b[43mname\u001b[49m\u001b[43m \u001b[49m\u001b[38;5;129;43;01min\u001b[39;49;00m\u001b[43m \u001b[49m\u001b[38;5;28;43mself\u001b[39;49m\u001b[38;5;241;43m.\u001b[39;49m\u001b[43mkeys\u001b[49m\u001b[43m:\u001b[49m\n",
      "File \u001b[0;32m~/miniforge3/envs/tfg_env/lib/python3.11/contextlib.py:144\u001b[0m, in \u001b[0;36m_GeneratorContextManager.__exit__\u001b[0;34m(self, typ, value, traceback)\u001b[0m\n\u001b[1;32m    142\u001b[0m \u001b[38;5;28;01mif\u001b[39;00m typ \u001b[38;5;129;01mis\u001b[39;00m \u001b[38;5;28;01mNone\u001b[39;00m:\n\u001b[1;32m    143\u001b[0m     \u001b[38;5;28;01mtry\u001b[39;00m:\n\u001b[0;32m--> 144\u001b[0m         \u001b[38;5;28mnext\u001b[39m(\u001b[38;5;28mself\u001b[39m\u001b[38;5;241m.\u001b[39mgen)\n\u001b[1;32m    145\u001b[0m     \u001b[38;5;28;01mexcept\u001b[39;00m \u001b[38;5;167;01mStopIteration\u001b[39;00m:\n\u001b[1;32m    146\u001b[0m         \u001b[38;5;28;01mreturn\u001b[39;00m \u001b[38;5;28;01mFalse\u001b[39;00m\n",
      "File \u001b[0;32m~/miniforge3/envs/tfg_env/lib/python3.11/site-packages/traitlets/traitlets.py:1510\u001b[0m, in \u001b[0;36mHasTraits.hold_trait_notifications\u001b[0;34m(self)\u001b[0m\n\u001b[1;32m   1508\u001b[0m \u001b[38;5;28;01mfor\u001b[39;00m changes \u001b[38;5;129;01min\u001b[39;00m cache\u001b[38;5;241m.\u001b[39mvalues():\n\u001b[1;32m   1509\u001b[0m     \u001b[38;5;28;01mfor\u001b[39;00m change \u001b[38;5;129;01min\u001b[39;00m changes:\n\u001b[0;32m-> 1510\u001b[0m         \u001b[38;5;28;43mself\u001b[39;49m\u001b[38;5;241;43m.\u001b[39;49m\u001b[43mnotify_change\u001b[49m\u001b[43m(\u001b[49m\u001b[43mchange\u001b[49m\u001b[43m)\u001b[49m\n",
      "File \u001b[0;32m~/miniforge3/envs/tfg_env/lib/python3.11/site-packages/ipywidgets/widgets/widget.py:701\u001b[0m, in \u001b[0;36mWidget.notify_change\u001b[0;34m(self, change)\u001b[0m\n\u001b[1;32m    698\u001b[0m     \u001b[38;5;28;01mif\u001b[39;00m name \u001b[38;5;129;01min\u001b[39;00m \u001b[38;5;28mself\u001b[39m\u001b[38;5;241m.\u001b[39mkeys \u001b[38;5;129;01mand\u001b[39;00m \u001b[38;5;28mself\u001b[39m\u001b[38;5;241m.\u001b[39m_should_send_property(name, \u001b[38;5;28mgetattr\u001b[39m(\u001b[38;5;28mself\u001b[39m, name)):\n\u001b[1;32m    699\u001b[0m         \u001b[38;5;66;03m# Send new state to front-end\u001b[39;00m\n\u001b[1;32m    700\u001b[0m         \u001b[38;5;28mself\u001b[39m\u001b[38;5;241m.\u001b[39msend_state(key\u001b[38;5;241m=\u001b[39mname)\n\u001b[0;32m--> 701\u001b[0m \u001b[38;5;28;43msuper\u001b[39;49m\u001b[43m(\u001b[49m\u001b[43m)\u001b[49m\u001b[38;5;241;43m.\u001b[39;49m\u001b[43mnotify_change\u001b[49m\u001b[43m(\u001b[49m\u001b[43mchange\u001b[49m\u001b[43m)\u001b[49m\n",
      "File \u001b[0;32m~/miniforge3/envs/tfg_env/lib/python3.11/site-packages/traitlets/traitlets.py:1525\u001b[0m, in \u001b[0;36mHasTraits.notify_change\u001b[0;34m(self, change)\u001b[0m\n\u001b[1;32m   1523\u001b[0m \u001b[38;5;28;01mdef\u001b[39;00m \u001b[38;5;21mnotify_change\u001b[39m(\u001b[38;5;28mself\u001b[39m, change: Bunch) \u001b[38;5;241m-\u001b[39m\u001b[38;5;241m>\u001b[39m \u001b[38;5;28;01mNone\u001b[39;00m:\n\u001b[1;32m   1524\u001b[0m \u001b[38;5;250m    \u001b[39m\u001b[38;5;124;03m\"\"\"Notify observers of a change event\"\"\"\u001b[39;00m\n\u001b[0;32m-> 1525\u001b[0m     \u001b[38;5;28;01mreturn\u001b[39;00m \u001b[38;5;28;43mself\u001b[39;49m\u001b[38;5;241;43m.\u001b[39;49m\u001b[43m_notify_observers\u001b[49m\u001b[43m(\u001b[49m\u001b[43mchange\u001b[49m\u001b[43m)\u001b[49m\n",
      "File \u001b[0;32m~/miniforge3/envs/tfg_env/lib/python3.11/site-packages/traitlets/traitlets.py:1568\u001b[0m, in \u001b[0;36mHasTraits._notify_observers\u001b[0;34m(self, event)\u001b[0m\n\u001b[1;32m   1565\u001b[0m \u001b[38;5;28;01melif\u001b[39;00m \u001b[38;5;28misinstance\u001b[39m(c, EventHandler) \u001b[38;5;129;01mand\u001b[39;00m c\u001b[38;5;241m.\u001b[39mname \u001b[38;5;129;01mis\u001b[39;00m \u001b[38;5;129;01mnot\u001b[39;00m \u001b[38;5;28;01mNone\u001b[39;00m:\n\u001b[1;32m   1566\u001b[0m     c \u001b[38;5;241m=\u001b[39m \u001b[38;5;28mgetattr\u001b[39m(\u001b[38;5;28mself\u001b[39m, c\u001b[38;5;241m.\u001b[39mname)\n\u001b[0;32m-> 1568\u001b[0m \u001b[43mc\u001b[49m\u001b[43m(\u001b[49m\u001b[43mevent\u001b[49m\u001b[43m)\u001b[49m\n",
      "File \u001b[0;32m~/miniforge3/envs/tfg_env/lib/python3.11/site-packages/plotly/basewidget.py:713\u001b[0m, in \u001b[0;36mBaseFigureWidget._handler_js2py_pointsCallback\u001b[0;34m(self, change)\u001b[0m\n\u001b[1;32m    710\u001b[0m trace \u001b[38;5;241m=\u001b[39m \u001b[38;5;28mself\u001b[39m\u001b[38;5;241m.\u001b[39mdata[trace_ind]\n\u001b[1;32m    712\u001b[0m \u001b[38;5;28;01mif\u001b[39;00m event_type \u001b[38;5;241m==\u001b[39m \u001b[38;5;124m\"\u001b[39m\u001b[38;5;124mplotly_click\u001b[39m\u001b[38;5;124m\"\u001b[39m:\n\u001b[0;32m--> 713\u001b[0m     \u001b[43mtrace\u001b[49m\u001b[38;5;241;43m.\u001b[39;49m\u001b[43m_dispatch_on_click\u001b[49m\u001b[43m(\u001b[49m\u001b[43mpoints\u001b[49m\u001b[43m,\u001b[49m\u001b[43m \u001b[49m\u001b[43mstate\u001b[49m\u001b[43m)\u001b[49m\n\u001b[1;32m    714\u001b[0m \u001b[38;5;28;01melif\u001b[39;00m event_type \u001b[38;5;241m==\u001b[39m \u001b[38;5;124m\"\u001b[39m\u001b[38;5;124mplotly_hover\u001b[39m\u001b[38;5;124m\"\u001b[39m:\n\u001b[1;32m    715\u001b[0m     trace\u001b[38;5;241m.\u001b[39m_dispatch_on_hover(points, state)\n",
      "File \u001b[0;32m~/miniforge3/envs/tfg_env/lib/python3.11/site-packages/plotly/basedatatypes.py:6180\u001b[0m, in \u001b[0;36mBaseTraceType._dispatch_on_click\u001b[0;34m(self, points, state)\u001b[0m\n\u001b[1;32m   6176\u001b[0m \u001b[38;5;250m\u001b[39m\u001b[38;5;124;03m\"\"\"\u001b[39;00m\n\u001b[1;32m   6177\u001b[0m \u001b[38;5;124;03mDispatch points and device state all all hover callbacks\u001b[39;00m\n\u001b[1;32m   6178\u001b[0m \u001b[38;5;124;03m\"\"\"\u001b[39;00m\n\u001b[1;32m   6179\u001b[0m \u001b[38;5;28;01mfor\u001b[39;00m callback \u001b[38;5;129;01min\u001b[39;00m \u001b[38;5;28mself\u001b[39m\u001b[38;5;241m.\u001b[39m_click_callbacks:\n\u001b[0;32m-> 6180\u001b[0m     \u001b[43mcallback\u001b[49m\u001b[43m(\u001b[49m\u001b[38;5;28;43mself\u001b[39;49m\u001b[43m,\u001b[49m\u001b[43m \u001b[49m\u001b[43mpoints\u001b[49m\u001b[43m,\u001b[49m\u001b[43m \u001b[49m\u001b[43mstate\u001b[49m\u001b[43m)\u001b[49m\n",
      "Cell \u001b[0;32mIn[28], line 11\u001b[0m, in \u001b[0;36mdo_click\u001b[0;34m(trace, points, state)\u001b[0m\n\u001b[1;32m      9\u001b[0m \u001b[38;5;28;01mif\u001b[39;00m points\u001b[38;5;241m.\u001b[39mpoint_inds:\n\u001b[1;32m     10\u001b[0m     ind \u001b[38;5;241m=\u001b[39m points\u001b[38;5;241m.\u001b[39mpoint_inds[\u001b[38;5;241m0\u001b[39m]\n\u001b[0;32m---> 11\u001b[0m     url \u001b[38;5;241m=\u001b[39m \u001b[43mdf\u001b[49m\u001b[38;5;241;43m.\u001b[39;49m\u001b[43mlink\u001b[49m\u001b[38;5;241;43m.\u001b[39;49m\u001b[43miloc\u001b[49m\u001b[43m[\u001b[49m\u001b[43mind\u001b[49m\u001b[43m]\u001b[49m\n\u001b[1;32m     12\u001b[0m     webbrowser\u001b[38;5;241m.\u001b[39mopen_new_tab(url)\n",
      "File \u001b[0;32m~/miniforge3/envs/tfg_env/lib/python3.11/site-packages/pandas/core/indexing.py:1191\u001b[0m, in \u001b[0;36m_LocationIndexer.__getitem__\u001b[0;34m(self, key)\u001b[0m\n\u001b[1;32m   1189\u001b[0m maybe_callable \u001b[38;5;241m=\u001b[39m com\u001b[38;5;241m.\u001b[39mapply_if_callable(key, \u001b[38;5;28mself\u001b[39m\u001b[38;5;241m.\u001b[39mobj)\n\u001b[1;32m   1190\u001b[0m maybe_callable \u001b[38;5;241m=\u001b[39m \u001b[38;5;28mself\u001b[39m\u001b[38;5;241m.\u001b[39m_check_deprecated_callable_usage(key, maybe_callable)\n\u001b[0;32m-> 1191\u001b[0m \u001b[38;5;28;01mreturn\u001b[39;00m \u001b[38;5;28;43mself\u001b[39;49m\u001b[38;5;241;43m.\u001b[39;49m\u001b[43m_getitem_axis\u001b[49m\u001b[43m(\u001b[49m\u001b[43mmaybe_callable\u001b[49m\u001b[43m,\u001b[49m\u001b[43m \u001b[49m\u001b[43maxis\u001b[49m\u001b[38;5;241;43m=\u001b[39;49m\u001b[43maxis\u001b[49m\u001b[43m)\u001b[49m\n",
      "File \u001b[0;32m~/miniforge3/envs/tfg_env/lib/python3.11/site-packages/pandas/core/indexing.py:1752\u001b[0m, in \u001b[0;36m_iLocIndexer._getitem_axis\u001b[0;34m(self, key, axis)\u001b[0m\n\u001b[1;32m   1749\u001b[0m     \u001b[38;5;28;01mraise\u001b[39;00m \u001b[38;5;167;01mTypeError\u001b[39;00m(\u001b[38;5;124m\"\u001b[39m\u001b[38;5;124mCannot index by location index with a non-integer key\u001b[39m\u001b[38;5;124m\"\u001b[39m)\n\u001b[1;32m   1751\u001b[0m \u001b[38;5;66;03m# validate the location\u001b[39;00m\n\u001b[0;32m-> 1752\u001b[0m \u001b[38;5;28;43mself\u001b[39;49m\u001b[38;5;241;43m.\u001b[39;49m\u001b[43m_validate_integer\u001b[49m\u001b[43m(\u001b[49m\u001b[43mkey\u001b[49m\u001b[43m,\u001b[49m\u001b[43m \u001b[49m\u001b[43maxis\u001b[49m\u001b[43m)\u001b[49m\n\u001b[1;32m   1754\u001b[0m \u001b[38;5;28;01mreturn\u001b[39;00m \u001b[38;5;28mself\u001b[39m\u001b[38;5;241m.\u001b[39mobj\u001b[38;5;241m.\u001b[39m_ixs(key, axis\u001b[38;5;241m=\u001b[39maxis)\n",
      "File \u001b[0;32m~/miniforge3/envs/tfg_env/lib/python3.11/site-packages/pandas/core/indexing.py:1685\u001b[0m, in \u001b[0;36m_iLocIndexer._validate_integer\u001b[0;34m(self, key, axis)\u001b[0m\n\u001b[1;32m   1683\u001b[0m len_axis \u001b[38;5;241m=\u001b[39m \u001b[38;5;28mlen\u001b[39m(\u001b[38;5;28mself\u001b[39m\u001b[38;5;241m.\u001b[39mobj\u001b[38;5;241m.\u001b[39m_get_axis(axis))\n\u001b[1;32m   1684\u001b[0m \u001b[38;5;28;01mif\u001b[39;00m key \u001b[38;5;241m>\u001b[39m\u001b[38;5;241m=\u001b[39m len_axis \u001b[38;5;129;01mor\u001b[39;00m key \u001b[38;5;241m<\u001b[39m \u001b[38;5;241m-\u001b[39mlen_axis:\n\u001b[0;32m-> 1685\u001b[0m     \u001b[38;5;28;01mraise\u001b[39;00m \u001b[38;5;167;01mIndexError\u001b[39;00m(\u001b[38;5;124m\"\u001b[39m\u001b[38;5;124msingle positional indexer is out-of-bounds\u001b[39m\u001b[38;5;124m\"\u001b[39m)\n",
      "\u001b[0;31mIndexError\u001b[0m: single positional indexer is out-of-bounds"
     ]
    }
   ],
   "source": [
    "x = np.random.rand(100)\n",
    "y = np.random.rand(100)\n",
    "\n",
    "f = go.FigureWidget([go.Scatter(x=x, y=y, mode=\"markers\")])\n",
    "scatter = f.data[0]\n",
    "f.layout.hovermode = \"closest\"\n",
    "\n",
    "\n",
    "def do_click(trace, points, state):\n",
    "    print(\"Clicked\")\n",
    "    if points.point_inds:\n",
    "        ind = points.point_inds[0]\n",
    "        url = df.link.iloc[ind]\n",
    "        webbrowser.open_new_tab(url)\n",
    "\n",
    "\n",
    "scatter.on_click(do_click)\n",
    "f"
   ]
  },
  {
   "cell_type": "code",
   "execution_count": 29,
   "metadata": {},
   "outputs": [
    {
     "data": {
      "application/vnd.jupyter.widget-view+json": {
       "model_id": "015a43ba9ebe4b289bb6b78e18aff8f3",
       "version_major": 2,
       "version_minor": 0
      },
      "text/plain": [
       "FigureWidget({\n",
       "    'data': [{'marker': {'color': [#a3a7e4, #a3a7e4, #a3a7e4, #a3a7e4, #a3a7e4,\n",
       "                                   #a3a7e4, #a3a7e4, #a3a7e4, #a3a7e4, #a3a7e4,\n",
       "                                   #a3a7e4, #a3a7e4, #a3a7e4, #a3a7e4, #a3a7e4,\n",
       "                                   #a3a7e4, #a3a7e4, #a3a7e4, #a3a7e4, #a3a7e4,\n",
       "                                   #a3a7e4, #a3a7e4, #a3a7e4, #a3a7e4, #a3a7e4,\n",
       "                                   #a3a7e4, #a3a7e4, #a3a7e4, #a3a7e4, #a3a7e4,\n",
       "                                   #a3a7e4, #a3a7e4, #a3a7e4, #a3a7e4, #a3a7e4,\n",
       "                                   #a3a7e4, #a3a7e4, #a3a7e4, #a3a7e4, #a3a7e4,\n",
       "                                   #a3a7e4, #a3a7e4, #a3a7e4, #a3a7e4, #a3a7e4,\n",
       "                                   #a3a7e4, #a3a7e4, #a3a7e4, #a3a7e4, #a3a7e4,\n",
       "                                   #a3a7e4, #a3a7e4, #a3a7e4, #a3a7e4, #a3a7e4,\n",
       "                                   #a3a7e4, #a3a7e4, #a3a7e4, #a3a7e4, #a3a7e4,\n",
       "                                   #a3a7e4, #a3a7e4, #a3a7e4, #a3a7e4, #a3a7e4,\n",
       "                                   #a3a7e4, #a3a7e4, #a3a7e4, #a3a7e4, #a3a7e4,\n",
       "                                   #a3a7e4, #a3a7e4, #a3a7e4, #a3a7e4, #a3a7e4,\n",
       "                                   #a3a7e4, #a3a7e4, #a3a7e4, #a3a7e4, #a3a7e4,\n",
       "                                   #a3a7e4, #a3a7e4, #a3a7e4, #a3a7e4, #a3a7e4,\n",
       "                                   #a3a7e4, #a3a7e4, #a3a7e4, #a3a7e4, #a3a7e4,\n",
       "                                   #a3a7e4, #a3a7e4, #a3a7e4, #a3a7e4, #a3a7e4,\n",
       "                                   #a3a7e4, #a3a7e4, #a3a7e4, #a3a7e4, #a3a7e4],\n",
       "                         'size': [10, 10, 10, 10, 10, 10, 10, 10, 10, 10, 10, 10,\n",
       "                                  10, 10, 10, 10, 10, 10, 10, 10, 10, 10, 10, 10,\n",
       "                                  10, 10, 10, 10, 10, 10, 10, 10, 10, 10, 10, 10,\n",
       "                                  10, 10, 10, 10, 10, 10, 10, 10, 10, 10, 10, 10,\n",
       "                                  10, 10, 10, 10, 10, 10, 10, 10, 10, 10, 10, 10,\n",
       "                                  10, 10, 10, 10, 10, 10, 10, 10, 10, 10, 10, 10,\n",
       "                                  10, 10, 10, 10, 10, 10, 10, 10, 10, 10, 10, 10,\n",
       "                                  10, 10, 10, 10, 10, 10, 10, 10, 10, 10, 10, 10,\n",
       "                                  10, 10, 10, 10]},\n",
       "              'mode': 'markers',\n",
       "              'type': 'scatter',\n",
       "              'uid': '81192233-7d30-4986-9c8b-b1addddf90c6',\n",
       "              'x': array([4.17022005e-01, 7.20324493e-01, 1.14374817e-04, 3.02332573e-01,\n",
       "                          1.46755891e-01, 9.23385948e-02, 1.86260211e-01, 3.45560727e-01,\n",
       "                          3.96767474e-01, 5.38816734e-01, 4.19194514e-01, 6.85219500e-01,\n",
       "                          2.04452250e-01, 8.78117436e-01, 2.73875932e-02, 6.70467510e-01,\n",
       "                          4.17304802e-01, 5.58689828e-01, 1.40386939e-01, 1.98101489e-01,\n",
       "                          8.00744569e-01, 9.68261576e-01, 3.13424178e-01, 6.92322616e-01,\n",
       "                          8.76389152e-01, 8.94606664e-01, 8.50442114e-02, 3.90547832e-02,\n",
       "                          1.69830420e-01, 8.78142503e-01, 9.83468338e-02, 4.21107625e-01,\n",
       "                          9.57889530e-01, 5.33165285e-01, 6.91877114e-01, 3.15515631e-01,\n",
       "                          6.86500928e-01, 8.34625672e-01, 1.82882773e-02, 7.50144315e-01,\n",
       "                          9.88861089e-01, 7.48165654e-01, 2.80443992e-01, 7.89279328e-01,\n",
       "                          1.03226007e-01, 4.47893526e-01, 9.08595503e-01, 2.93614148e-01,\n",
       "                          2.87775339e-01, 1.30028572e-01, 1.93669579e-02, 6.78835533e-01,\n",
       "                          2.11628116e-01, 2.65546659e-01, 4.91573159e-01, 5.33625451e-02,\n",
       "                          5.74117605e-01, 1.46728575e-01, 5.89305537e-01, 6.99758360e-01,\n",
       "                          1.02334429e-01, 4.14055988e-01, 6.94400158e-01, 4.14179270e-01,\n",
       "                          4.99534589e-02, 5.35896406e-01, 6.63794645e-01, 5.14889112e-01,\n",
       "                          9.44594756e-01, 5.86555041e-01, 9.03401915e-01, 1.37474704e-01,\n",
       "                          1.39276347e-01, 8.07391289e-01, 3.97676837e-01, 1.65354197e-01,\n",
       "                          9.27508580e-01, 3.47765860e-01, 7.50812103e-01, 7.25997985e-01,\n",
       "                          8.83306091e-01, 6.23672207e-01, 7.50942434e-01, 3.48898342e-01,\n",
       "                          2.69927892e-01, 8.95886218e-01, 4.28091190e-01, 9.64840047e-01,\n",
       "                          6.63441498e-01, 6.21695720e-01, 1.14745973e-01, 9.49489259e-01,\n",
       "                          4.49912133e-01, 5.78389614e-01, 4.08136803e-01, 2.37026980e-01,\n",
       "                          9.03379521e-01, 5.73679487e-01, 2.87032703e-03, 6.17144914e-01]),\n",
       "              'y': array([0.3266449 , 0.5270581 , 0.8859421 , 0.35726976, 0.90853515, 0.62336012,\n",
       "                          0.01582124, 0.92943723, 0.69089692, 0.99732285, 0.17234051, 0.13713575,\n",
       "                          0.93259546, 0.69681816, 0.06600017, 0.75546305, 0.75387619, 0.92302454,\n",
       "                          0.71152476, 0.12427096, 0.01988013, 0.02621099, 0.02830649, 0.24621107,\n",
       "                          0.86002795, 0.53883106, 0.55282198, 0.84203089, 0.12417332, 0.27918368,\n",
       "                          0.58575927, 0.96959575, 0.56103022, 0.01864729, 0.80063267, 0.23297427,\n",
       "                          0.8071052 , 0.38786064, 0.86354185, 0.74712164, 0.55624023, 0.13645523,\n",
       "                          0.05991769, 0.12134346, 0.04455188, 0.10749413, 0.22570934, 0.71298898,\n",
       "                          0.55971698, 0.01255598, 0.07197428, 0.96727633, 0.56810046, 0.20329323,\n",
       "                          0.25232574, 0.74382585, 0.19542948, 0.58135893, 0.97001999, 0.8468288 ,\n",
       "                          0.23984776, 0.49376971, 0.61995572, 0.8289809 , 0.15679139, 0.0185762 ,\n",
       "                          0.07002214, 0.48634511, 0.60632946, 0.56885144, 0.31736241, 0.98861615,\n",
       "                          0.57974522, 0.38014117, 0.55094822, 0.74533443, 0.66923289, 0.26491956,\n",
       "                          0.06633483, 0.3700842 , 0.62971751, 0.21017401, 0.75275555, 0.06653648,\n",
       "                          0.2603151 , 0.80475456, 0.19343428, 0.63946088, 0.52467031, 0.92480797,\n",
       "                          0.26329677, 0.06596109, 0.73506596, 0.77217803, 0.90781585, 0.93197207,\n",
       "                          0.01395157, 0.23436209, 0.61677836, 0.94901632])}],\n",
       "    'layout': {'hovermode': 'closest', 'template': '...'}\n",
       "})"
      ]
     },
     "execution_count": 29,
     "metadata": {},
     "output_type": "execute_result"
    },
    {
     "name": "stdout",
     "output_type": "stream",
     "text": [
      "Hemlo\n",
      "Hemlo\n"
     ]
    }
   ],
   "source": [
    "import plotly.graph_objects as go\n",
    "\n",
    "import numpy as np\n",
    "\n",
    "np.random.seed(1)\n",
    "\n",
    "x = np.random.rand(100)\n",
    "y = np.random.rand(100)\n",
    "\n",
    "f = go.FigureWidget([go.Scatter(x=x, y=y, mode=\"markers\")])\n",
    "\n",
    "scatter = f.data[0]\n",
    "colors = [\"#a3a7e4\"] * 100\n",
    "scatter.marker.color = colors\n",
    "scatter.marker.size = [10] * 100\n",
    "f.layout.hovermode = \"closest\"\n",
    "\n",
    "\n",
    "# create our callback function\n",
    "def update_point(trace, points, selector):\n",
    "    print(\"Hemlo\")\n",
    "    # c = list(scatter.marker.color)\n",
    "    # s = list(scatter.marker.size)\n",
    "    # for i in points.point_inds:\n",
    "    #     c[i] = '#bae2be'\n",
    "    #     s[i] = 20\n",
    "    #     with f.batch_update():\n",
    "    #         scatter.marker.color = c\n",
    "    #         scatter.marker.size = s\n",
    "\n",
    "\n",
    "scatter.on_click(update_point)\n",
    "\n",
    "f"
   ]
  }
 ],
 "metadata": {
  "kernelspec": {
   "display_name": "tfg_env",
   "language": "python",
   "name": "python3"
  },
  "language_info": {
   "codemirror_mode": {
    "name": "ipython",
    "version": 3
   },
   "file_extension": ".py",
   "mimetype": "text/x-python",
   "name": "python",
   "nbconvert_exporter": "python",
   "pygments_lexer": "ipython3",
   "version": "3.11.7"
  }
 },
 "nbformat": 4,
 "nbformat_minor": 2
}
