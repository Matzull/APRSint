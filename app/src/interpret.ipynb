{
 "cells": [
  {
   "cell_type": "code",
   "execution_count": 1,
   "metadata": {},
   "outputs": [],
   "source": [
    "import pandas as pd\n",
    "import plotly.express as px\n",
    "import plotly.graph_objects as go\n",
    "from sklearn.neighbors import NearestNeighbors\n",
    "import numpy as np\n",
    "import os\n",
    "import sys\n",
    "import webbrowser\n",
    "from time import time_ns\n",
    "\n",
    "sys.path.append(os.path.join(os.path.dirname(os.getcwd())))\n",
    "from interfaces.alchemy import AlchemyInterface\n",
    "import configparser\n",
    "from db.schema import StationLocation\n",
    "import geopandas as gpd\n",
    "from shapely.geometry import Point"
   ]
  },
  {
   "cell_type": "code",
   "execution_count": 2,
   "metadata": {},
   "outputs": [],
   "source": [
    "c_parser = configparser.ConfigParser()\n",
    "c_parser.read(\"../../config.ini\")\n",
    "config = {\"db\": dict(c_parser[\"db\"])}"
   ]
  },
  {
   "cell_type": "code",
   "execution_count": 3,
   "metadata": {},
   "outputs": [],
   "source": [
    "alchemy_interface = AlchemyInterface(config)"
   ]
  },
  {
   "cell_type": "code",
   "execution_count": 4,
   "metadata": {},
   "outputs": [
    {
     "name": "stdout",
     "output_type": "stream",
     "text": [
      "Query: SELECT station, timestamp, latitude, longitude, country \n",
      "FROM aprsint.station_locations \n",
      "WHERE station = 'W6HBR-2'\n",
      "Time to query data:  52.277713  ms\n"
     ]
    }
   ],
   "source": [
    "time_start = time_ns()\n",
    "data = alchemy_interface.select_obj(\n",
    "    StationLocation,\n",
    "    **{\"station\": \"W6HBR-2\"},\n",
    "    df=False,\n",
    ")\n",
    "time_query = time_ns()\n",
    "print(\"Time to query data: \", (time_query - time_start) / 1e6, \" ms\")"
   ]
  },
  {
   "cell_type": "code",
   "execution_count": null,
   "metadata": {},
   "outputs": [],
   "source": [
    "df = df.dropna(subset=[\"latitude\", \"longitude\"])"
   ]
  },
  {
   "cell_type": "code",
   "execution_count": null,
   "metadata": {},
   "outputs": [],
   "source": [
    "coords = df[[\"latitude\", \"longitude\"]].values\n",
    "\n",
    "# Usar NearestNeighbors para encontrar vecinos en un radio\n",
    "# El radio está en grados y puedes ajustarlo según tus necesidades\n",
    "radius = 0.5  # Ajusta este valor según tus necesidades\n",
    "nbrs = NearestNeighbors(radius=radius, algorithm=\"ball_tree\").fit(coords)\n",
    "distances, indices = nbrs.radius_neighbors(coords)\n",
    "\n",
    "# Calcular la densidad: número de puntos en el radio para cada punto\n",
    "density = np.array([len(indices[i]) for i in range(len(coords))])\n",
    "\n",
    "# Agregar la densidad al DataFrame original\n",
    "df[\"density\"] = density"
   ]
  },
  {
   "cell_type": "code",
   "execution_count": null,
   "metadata": {},
   "outputs": [],
   "source": [
    "def do_click(trace, points, state):\n",
    "    print(\"clicked\")\n",
    "    if points.point_inds:\n",
    "        ind = points.point_inds[0]\n",
    "        url = df.link.iloc[ind]\n",
    "        webbrowser.open_new_tab(url)\n",
    "\n",
    "\n",
    "# The logic of drawing a graph\n",
    "def bar_func(df):\n",
    "    fig = px.scatter_mapbox(\n",
    "        df,\n",
    "        lon=\"longitude\",\n",
    "        lat=\"latitude\",\n",
    "    )\n",
    "\n",
    "    fig.update_traces(\n",
    "        marker=go.scattermapbox.Marker(\n",
    "            size=5,\n",
    "        ),\n",
    "    )\n",
    "\n",
    "    fig.update_layout(\n",
    "        hovermode=\"closest\",\n",
    "        mapbox_style=\"dark\",\n",
    "        mapbox_accesstoken=c_parser[\"mapbox\"][\"token\"],\n",
    "    )\n",
    "    fig.data[0].on_click(do_click)\n",
    "    fig.show()\n",
    "\n",
    "\n",
    "bar_func(df)"
   ]
  },
  {
   "cell_type": "code",
   "execution_count": null,
   "metadata": {},
   "outputs": [],
   "source": [
    "x = np.random.rand(100)\n",
    "y = np.random.rand(100)\n",
    "\n",
    "f = go.FigureWidget([go.Scatter(x=x, y=y, mode=\"markers\")])\n",
    "scatter = f.data[0]\n",
    "f.layout.hovermode = \"closest\"\n",
    "\n",
    "\n",
    "def do_click(trace, points, state):\n",
    "    print(\"Clicked\")\n",
    "    if points.point_inds:\n",
    "        ind = points.point_inds[0]\n",
    "        url = df.link.iloc[ind]\n",
    "        webbrowser.open_new_tab(url)\n",
    "\n",
    "\n",
    "scatter.on_click(do_click)\n",
    "f"
   ]
  },
  {
   "cell_type": "code",
   "execution_count": null,
   "metadata": {},
   "outputs": [],
   "source": [
    "import plotly.graph_objects as go\n",
    "\n",
    "import numpy as np\n",
    "\n",
    "np.random.seed(1)\n",
    "\n",
    "x = np.random.rand(100)\n",
    "y = np.random.rand(100)\n",
    "\n",
    "f = go.FigureWidget([go.Scatter(x=x, y=y, mode=\"markers\")])\n",
    "\n",
    "scatter = f.data[0]\n",
    "colors = [\"#a3a7e4\"] * 100\n",
    "scatter.marker.color = colors\n",
    "scatter.marker.size = [10] * 100\n",
    "f.layout.hovermode = \"closest\"\n",
    "\n",
    "\n",
    "# create our callback function\n",
    "def update_point(trace, points, selector):\n",
    "    print(\"Hemlo\")\n",
    "    # c = list(scatter.marker.color)\n",
    "    # s = list(scatter.marker.size)\n",
    "    # for i in points.point_inds:\n",
    "    #     c[i] = '#bae2be'\n",
    "    #     s[i] = 20\n",
    "    #     with f.batch_update():\n",
    "    #         scatter.marker.color = c\n",
    "    #         scatter.marker.size = s\n",
    "\n",
    "\n",
    "scatter.on_click(update_point)\n",
    "\n",
    "f"
   ]
  }
 ],
 "metadata": {
  "kernelspec": {
   "display_name": "tfg_env",
   "language": "python",
   "name": "python3"
  },
  "language_info": {
   "codemirror_mode": {
    "name": "ipython",
    "version": 3
   },
   "file_extension": ".py",
   "mimetype": "text/x-python",
   "name": "python",
   "nbconvert_exporter": "python",
   "pygments_lexer": "ipython3",
   "version": "3.11.7"
  }
 },
 "nbformat": 4,
 "nbformat_minor": 2
}
